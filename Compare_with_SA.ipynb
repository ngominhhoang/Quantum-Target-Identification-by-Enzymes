{
 "cells": [
  {
   "cell_type": "code",
   "execution_count": 8,
   "id": "ffb215e0",
   "metadata": {},
   "outputs": [],
   "source": [
    "import numpy as np\n",
    "from gurobipy import *\n",
    "import random\n",
    "from colormap import rgb2hex\n",
    "import pandas as pd\n",
    "import networkx as nx\n",
    "import numpy as np"
   ]
  },
  {
   "cell_type": "code",
   "execution_count": 83,
   "id": "e92ed89a",
   "metadata": {},
   "outputs": [],
   "source": [
    "import random\n",
    "import math\n",
    "import copy\n",
    "\n",
    "\n",
    "class SimulatedAnnealing:\n",
    "    def __init__(self, initialSolution, initialTemp, finalTemp, tempReduction, linear_comp, quadratic_comp, coef, iterationPerTemp=100, alpha=0.1, beta=5):\n",
    "        self.solution = initialSolution\n",
    "        self.currTemp = initialTemp\n",
    "        self.finalTemp = finalTemp\n",
    "        self.iterationPerTemp = iterationPerTemp\n",
    "        self.alpha = alpha\n",
    "        self.beta = beta\n",
    "\n",
    "        if tempReduction == \"linear\":\n",
    "            self.decrementRule = self.linearTempReduction\n",
    "        elif tempReduction == \"geometric\":\n",
    "            self.decrementRule = self.geometricTempReduction\n",
    "        elif tempReduction == \"slowDecrease\":\n",
    "            self.decrementRule = self.slowDecreaseTempReduction\n",
    "        else:\n",
    "            self.decrementRule = tempReduction\n",
    "        \n",
    "        self.qubo = {'linear': linear_comp, 'quadratic': quadratic_comp, 'coefficient': coef}\n",
    "        \n",
    "        self.lim = coef\n",
    "        for obj in self.qubo['linear'].keys():\n",
    "            self.lim = self.lim + self.qubo['linear'][obj]\n",
    "        for obj in self.qubo['quadratic'].keys():\n",
    "            self.lim = self.lim + self.qubo['quadratic'][obj]\n",
    "        \n",
    "\n",
    "    def linearTempReduction(self):\n",
    "        self.currTemp -= self.alpha\n",
    "\n",
    "    def geometricTempReduction(self):\n",
    "        self.currTemp *= self.alpha\n",
    "\n",
    "    def slowDecreaseTempReduction(self):\n",
    "        self.currTemp = self.currTemp / (1 + self.beta * self.currTemp)\n",
    "\n",
    "    def isTerminationCriteriaMet(self):\n",
    "        # can add more termination criteria\n",
    "        return self.currTemp <= self.finalTemp or len(self.neighborOperator(self.solution)) == 0\n",
    "    \n",
    "    def evaluate(self, solution):\n",
    "        res = self.qubo['coefficient']\n",
    "        for obj in self.qubo['linear'].keys():\n",
    "            res = res + self.qubo['linear'][obj]*solution[obj]\n",
    "        for obj in self.qubo['quadratic'].keys():\n",
    "            res = res + self.qubo['quadratic'][obj]*solution[obj[0]]*solution[obj[1]]\n",
    "        return res/self.lim\n",
    "    \n",
    "    def neighborOperator(self, solution):\n",
    "        neighbors = []\n",
    "        \n",
    "        for obj in self.qubo['linear'].keys():\n",
    "            new_neighbor = copy.deepcopy(solution)\n",
    "            new_neighbor[obj] = 1 - solution[obj]\n",
    "            neighbors.append(new_neighbor)\n",
    "        \n",
    "        return neighbors\n",
    "            \n",
    "\n",
    "    def run(self):\n",
    "        while not self.isTerminationCriteriaMet():\n",
    "            # iterate that number of times\n",
    "            print('TEMP: ', self.currTemp)\n",
    "            for i in range(self.iterationPerTemp):\n",
    "                # get all of the neighbors\n",
    "                neighbors = self.neighborOperator(self.solution)\n",
    "                # pick a random neighbor\n",
    "                newSolution = random.choice(neighbors)\n",
    "                # get the cost between the two solutions\n",
    "                cost = self.evaluate(self.solution) - self.evaluate(newSolution)\n",
    "                # if the new solution is better, accept it\n",
    "                if cost >= 0:\n",
    "                    self.solution = newSolution\n",
    "                # if the new solution is not better, accept it with a probability of e^(-cost/temp)\n",
    "                else:\n",
    "                    #print(-cost, self.currTemp, -cost / self.currTemp)\n",
    "                    if random.uniform(0, 1) < math.exp(-cost / self.currTemp):\n",
    "                        self.solution = newSolution\n",
    "            # decrement the temperature\n",
    "            self.decrementRule()\n",
    "            print(self.evaluate(self.solution)*self.lim)\n",
    "        #return self.evaluate(self.solution)*self.lim\n",
    "        "
   ]
  },
  {
   "cell_type": "code",
   "execution_count": 9,
   "id": "e62a66c5",
   "metadata": {},
   "outputs": [],
   "source": [
    "from scipy import optimize\n",
    "\n",
    "def evaluate_function(sol, *params):\n",
    "    \n",
    "    qubo, mapping, scale = params\n",
    "    #print(mapping)\n",
    "    res = qubo['coefficient']\n",
    "    for obj in qubo['linear'].keys():\n",
    "        res = res + qubo['linear'][obj]*sol[mapping[obj]]\n",
    "    for obj in qubo['quadratic'].keys():\n",
    "        res = res + qubo['quadratic'][obj]*sol[mapping[obj[0]]]*sol[mapping[obj[1]]]\n",
    "    return res/scale"
   ]
  },
  {
   "cell_type": "code",
   "execution_count": 9,
   "id": "3b7224c9",
   "metadata": {},
   "outputs": [],
   "source": [
    "target = ['C00074']\n",
    "qubo_comp, coef = qubo_initialize(list_enzymes, list_reactions, list_compounds, target, G)\n",
    "linear_comp, quadratic_comp = qubo_splitting(qubo_comp)\n",
    "qubo = {'linear': linear_comp, 'quadratic': quadratic_comp, 'coefficient': coef}"
   ]
  },
  {
   "cell_type": "code",
   "execution_count": 10,
   "id": "4ab32110",
   "metadata": {},
   "outputs": [],
   "source": [
    "init_solution = []\n",
    "mapping = {}\n",
    "index = 0\n",
    "for obj in linear_comp.keys():\n",
    "    init_solution.append(random.choice([0, 1]))\n",
    "    mapping[obj] = index\n",
    "    index = index + 1\n",
    "    \n",
    "init_solution = np.array(init_solution)\n",
    "\n",
    "scale = coef\n",
    "for obj in qubo['linear'].keys():\n",
    "    scale = scale + qubo['linear'][obj]\n",
    "    \n",
    "params = [qubo, mapping, scale]\n",
    "lw = [0] * len(linear_comp.keys())\n",
    "up = [1] * len(linear_comp.keys())\n",
    "res = optimize.dual_annealing(evaluate_function, list(zip(lw, up)), params, 100)"
   ]
  },
  {
   "cell_type": "code",
   "execution_count": 19,
   "id": "4c4be45c",
   "metadata": {},
   "outputs": [
    {
     "data": {
      "text/plain": [
       " message: ['Maximum number of iteration reached']\n",
       " success: True\n",
       "  status: 0\n",
       "     fun: 0.01683945541752316\n",
       "       x: [ 0.000e+00  1.000e+00 ...  1.000e+00  0.000e+00]\n",
       "     nit: 100\n",
       "    nfev: 50481\n",
       "    njev: 80\n",
       "    nhev: 0"
      ]
     },
     "execution_count": 19,
     "metadata": {},
     "output_type": "execute_result"
    }
   ],
   "source": [
    "res"
   ]
  },
  {
   "cell_type": "code",
   "execution_count": 10,
   "id": "1c16dc40",
   "metadata": {},
   "outputs": [],
   "source": [
    "def unpacking(res_packet, list_compounds, target, mapping):\n",
    "    remain, remain_list, damage, damage_list = 0, [], 0, []\n",
    "    checking = {}\n",
    "    for i in range(len(res_packet.x)):\n",
    "        if res_packet.x[i] > 0.5:\n",
    "            checking[mapping[i]] = 1\n",
    "        else:\n",
    "            checking[mapping[i]] = 0\n",
    "            \n",
    "    for comp in list_compounds:\n",
    "        if comp in target:\n",
    "            if checking[comp] == 0:\n",
    "                remain = remain + 1\n",
    "                remain_list.append(comp)\n",
    "        else:\n",
    "            if checking[comp] == 1:\n",
    "                damage = damage + 1\n",
    "                damage_list.append(comp)\n",
    "    \n",
    "    return remain, remain_list, damage, damage_list\n",
    "            "
   ]
  },
  {
   "cell_type": "code",
   "execution_count": 15,
   "id": "d287c4a8",
   "metadata": {},
   "outputs": [
    {
     "name": "stdout",
     "output_type": "stream",
     "text": [
      "['C00416', 'C02133'] 1 ['C00416'] 4 ['C03692', 'C00577', 'C00681', 'C00093']\n"
     ]
    },
    {
     "name": "stderr",
     "output_type": "stream",
     "text": [
      "/tmp/ipykernel_1380361/3420422285.py:156: FutureWarning: The frame.append method is deprecated and will be removed from pandas in a future version. Use pandas.concat instead.\n",
      "  df = df.append(rec, ignore_index=True)\n"
     ]
    },
    {
     "name": "stdout",
     "output_type": "stream",
     "text": [
      "['C02133', 'C00681'] 0 [] 6 ['C00416', 'C03692', 'C00577', 'C00111', 'C00093', 'C00116']\n"
     ]
    },
    {
     "name": "stderr",
     "output_type": "stream",
     "text": [
      "/tmp/ipykernel_1380361/3420422285.py:156: FutureWarning: The frame.append method is deprecated and will be removed from pandas in a future version. Use pandas.concat instead.\n",
      "  df = df.append(rec, ignore_index=True)\n"
     ]
    },
    {
     "name": "stdout",
     "output_type": "stream",
     "text": [
      "['C00681', 'C00116'] 1 ['C00681'] 6 ['C00416', 'C00631', 'C02133', 'C03692', 'C00577', 'C00093']\n"
     ]
    },
    {
     "name": "stderr",
     "output_type": "stream",
     "text": [
      "/tmp/ipykernel_1380361/3420422285.py:156: FutureWarning: The frame.append method is deprecated and will be removed from pandas in a future version. Use pandas.concat instead.\n",
      "  df = df.append(rec, ignore_index=True)\n"
     ]
    },
    {
     "name": "stdout",
     "output_type": "stream",
     "text": [
      "['C00111', 'C00184'] 0 [] 5 ['C00416', 'C02133', 'C00577', 'C00681', 'C00116']\n"
     ]
    },
    {
     "name": "stderr",
     "output_type": "stream",
     "text": [
      "/tmp/ipykernel_1380361/3420422285.py:156: FutureWarning: The frame.append method is deprecated and will be removed from pandas in a future version. Use pandas.concat instead.\n",
      "  df = df.append(rec, ignore_index=True)\n"
     ]
    },
    {
     "name": "stdout",
     "output_type": "stream",
     "text": [
      "['C00681', 'C00184'] 0 [] 7 ['C00416', 'C02133', 'C03692', 'C00577', 'C00111', 'C00093', 'C00116']\n"
     ]
    },
    {
     "name": "stderr",
     "output_type": "stream",
     "text": [
      "/tmp/ipykernel_1380361/3420422285.py:156: FutureWarning: The frame.append method is deprecated and will be removed from pandas in a future version. Use pandas.concat instead.\n",
      "  df = df.append(rec, ignore_index=True)\n"
     ]
    },
    {
     "name": "stdout",
     "output_type": "stream",
     "text": [
      "['C00416', 'C02133', 'C03692', 'C00577', 'C00111', 'C00093', 'C00184'] 5 ['C00416', 'C02133', 'C03692', 'C00093', 'C00184'] 0 []\n"
     ]
    },
    {
     "name": "stderr",
     "output_type": "stream",
     "text": [
      "/tmp/ipykernel_1380361/3420422285.py:156: FutureWarning: The frame.append method is deprecated and will be removed from pandas in a future version. Use pandas.concat instead.\n",
      "  df = df.append(rec, ignore_index=True)\n"
     ]
    },
    {
     "name": "stdout",
     "output_type": "stream",
     "text": [
      "['C00416', 'C00631', 'C00681', 'C00111', 'C00093', 'C00184', 'C00116'] 1 ['C00116'] 1 ['C02133']\n"
     ]
    },
    {
     "name": "stderr",
     "output_type": "stream",
     "text": [
      "/tmp/ipykernel_1380361/3420422285.py:156: FutureWarning: The frame.append method is deprecated and will be removed from pandas in a future version. Use pandas.concat instead.\n",
      "  df = df.append(rec, ignore_index=True)\n"
     ]
    },
    {
     "name": "stdout",
     "output_type": "stream",
     "text": [
      "['C00631', 'C03692', 'C00577', 'C00681', 'C00111', 'C00093', 'C00116'] 1 ['C00116'] 1 ['C02133']\n"
     ]
    },
    {
     "name": "stderr",
     "output_type": "stream",
     "text": [
      "/tmp/ipykernel_1380361/3420422285.py:156: FutureWarning: The frame.append method is deprecated and will be removed from pandas in a future version. Use pandas.concat instead.\n",
      "  df = df.append(rec, ignore_index=True)\n"
     ]
    },
    {
     "name": "stdout",
     "output_type": "stream",
     "text": [
      "['C00416', 'C00631', 'C03692', 'C00577', 'C00681', 'C00184', 'C00116'] 1 ['C00184'] 1 ['C00093']\n"
     ]
    },
    {
     "name": "stderr",
     "output_type": "stream",
     "text": [
      "/tmp/ipykernel_1380361/3420422285.py:156: FutureWarning: The frame.append method is deprecated and will be removed from pandas in a future version. Use pandas.concat instead.\n",
      "  df = df.append(rec, ignore_index=True)\n"
     ]
    },
    {
     "name": "stdout",
     "output_type": "stream",
     "text": [
      "['C00631', 'C02133', 'C03692', 'C00681', 'C00111', 'C00184', 'C00116'] 4 ['C00631', 'C02133', 'C03692', 'C00681'] 1 ['C00577']\n"
     ]
    },
    {
     "name": "stderr",
     "output_type": "stream",
     "text": [
      "/tmp/ipykernel_1380361/3420422285.py:156: FutureWarning: The frame.append method is deprecated and will be removed from pandas in a future version. Use pandas.concat instead.\n",
      "  df = df.append(rec, ignore_index=True)\n"
     ]
    },
    {
     "name": "stdout",
     "output_type": "stream",
     "text": [
      "['C00091', 'C00022'] 1 ['C00022'] 8 ['C00158', 'C00417', 'C16254', 'C05379', 'C05125', 'C05381', 'C15973', 'C00149']\n"
     ]
    },
    {
     "name": "stderr",
     "output_type": "stream",
     "text": [
      "/tmp/ipykernel_1380361/3420422285.py:156: FutureWarning: The frame.append method is deprecated and will be removed from pandas in a future version. Use pandas.concat instead.\n",
      "  df = df.append(rec, ignore_index=True)\n"
     ]
    },
    {
     "name": "stdout",
     "output_type": "stream",
     "text": [
      "['C00042', 'C00022'] 0 [] 6 ['C00158', 'C16255', 'C16254', 'C00068', 'C00024', 'C05381']\n"
     ]
    },
    {
     "name": "stderr",
     "output_type": "stream",
     "text": [
      "/tmp/ipykernel_1380361/3420422285.py:156: FutureWarning: The frame.append method is deprecated and will be removed from pandas in a future version. Use pandas.concat instead.\n",
      "  df = df.append(rec, ignore_index=True)\n"
     ]
    },
    {
     "name": "stdout",
     "output_type": "stream",
     "text": [
      "['C00074', 'C00311'] 0 [] 11 ['C00158', 'C00417', 'C16255', 'C00122', 'C00026', 'C00091', 'C16254', 'C00042', 'C05379', 'C15972', 'C15973']\n"
     ]
    },
    {
     "name": "stderr",
     "output_type": "stream",
     "text": [
      "/tmp/ipykernel_1380361/3420422285.py:156: FutureWarning: The frame.append method is deprecated and will be removed from pandas in a future version. Use pandas.concat instead.\n",
      "  df = df.append(rec, ignore_index=True)\n"
     ]
    },
    {
     "name": "stdout",
     "output_type": "stream",
     "text": [
      "['C00122', 'C00149'] 0 [] 7 ['C00074', 'C00036', 'C16255', 'C00026', 'C16254', 'C05125', 'C05381']\n"
     ]
    },
    {
     "name": "stderr",
     "output_type": "stream",
     "text": [
      "/tmp/ipykernel_1380361/3420422285.py:156: FutureWarning: The frame.append method is deprecated and will be removed from pandas in a future version. Use pandas.concat instead.\n",
      "  df = df.append(rec, ignore_index=True)\n"
     ]
    },
    {
     "name": "stdout",
     "output_type": "stream",
     "text": [
      "['C00026', 'C05381'] 0 [] 7 ['C00074', 'C16254', 'C00068', 'C05379', 'C05125', 'C00022', 'C15972']\n"
     ]
    },
    {
     "name": "stderr",
     "output_type": "stream",
     "text": [
      "/tmp/ipykernel_1380361/3420422285.py:156: FutureWarning: The frame.append method is deprecated and will be removed from pandas in a future version. Use pandas.concat instead.\n",
      "  df = df.append(rec, ignore_index=True)\n"
     ]
    },
    {
     "name": "stdout",
     "output_type": "stream",
     "text": [
      "['C00417', 'C00091', 'C05125', 'C00022', 'C05381', 'C15973', 'C00149'] 3 ['C00417', 'C00091', 'C00149'] 3 ['C00074', 'C00026', 'C00068']\n"
     ]
    },
    {
     "name": "stderr",
     "output_type": "stream",
     "text": [
      "/tmp/ipykernel_1380361/3420422285.py:156: FutureWarning: The frame.append method is deprecated and will be removed from pandas in a future version. Use pandas.concat instead.\n",
      "  df = df.append(rec, ignore_index=True)\n"
     ]
    },
    {
     "name": "stdout",
     "output_type": "stream",
     "text": [
      "['C00036', 'C00026', 'C00091', 'C00068', 'C00311', 'C05381', 'C15972'] 2 ['C00091', 'C00068'] 8 ['C00074', 'C00417', 'C16254', 'C05379', 'C00024', 'C05125', 'C00022', 'C15973']\n"
     ]
    },
    {
     "name": "stderr",
     "output_type": "stream",
     "text": [
      "/tmp/ipykernel_1380361/3420422285.py:156: FutureWarning: The frame.append method is deprecated and will be removed from pandas in a future version. Use pandas.concat instead.\n",
      "  df = df.append(rec, ignore_index=True)\n"
     ]
    },
    {
     "name": "stdout",
     "output_type": "stream",
     "text": [
      "['C00074', 'C00026', 'C00042', 'C00024', 'C05125', 'C05381', 'C00149'] 2 ['C00074', 'C00042'] 7 ['C00158', 'C00417', 'C16255', 'C00122', 'C05379', 'C00022', 'C15972']\n"
     ]
    },
    {
     "name": "stderr",
     "output_type": "stream",
     "text": [
      "/tmp/ipykernel_1380361/3420422285.py:156: FutureWarning: The frame.append method is deprecated and will be removed from pandas in a future version. Use pandas.concat instead.\n",
      "  df = df.append(rec, ignore_index=True)\n"
     ]
    },
    {
     "name": "stdout",
     "output_type": "stream",
     "text": [
      "['C16255', 'C16254', 'C05125', 'C05381', 'C15972', 'C15973', 'C00149'] 2 ['C15973', 'C00149'] 5 ['C00074', 'C00122', 'C00026', 'C00068', 'C00311']\n"
     ]
    },
    {
     "name": "stderr",
     "output_type": "stream",
     "text": [
      "/tmp/ipykernel_1380361/3420422285.py:156: FutureWarning: The frame.append method is deprecated and will be removed from pandas in a future version. Use pandas.concat instead.\n",
      "  df = df.append(rec, ignore_index=True)\n"
     ]
    },
    {
     "name": "stdout",
     "output_type": "stream",
     "text": [
      "['C00074', 'C00068', 'C00311', 'C05379', 'C00024', 'C05125', 'C15973'] 2 ['C00024', 'C15973'] 5 ['C00158', 'C00417', 'C00026', 'C00091', 'C05381']\n"
     ]
    },
    {
     "name": "stderr",
     "output_type": "stream",
     "text": [
      "/tmp/ipykernel_1380361/3420422285.py:156: FutureWarning: The frame.append method is deprecated and will be removed from pandas in a future version. Use pandas.concat instead.\n",
      "  df = df.append(rec, ignore_index=True)\n"
     ]
    },
    {
     "name": "stdout",
     "output_type": "stream",
     "text": [
      "['C00158', 'C00074', 'C16255', 'C00122', 'C00026', 'C16254', 'C00042', 'C00024', 'C05125', 'C05381', 'C15972', 'C00149'] 1 ['C00024'] 2 ['C00022', 'C15973']\n"
     ]
    },
    {
     "name": "stderr",
     "output_type": "stream",
     "text": [
      "/tmp/ipykernel_1380361/3420422285.py:156: FutureWarning: The frame.append method is deprecated and will be removed from pandas in a future version. Use pandas.concat instead.\n",
      "  df = df.append(rec, ignore_index=True)\n"
     ]
    },
    {
     "name": "stdout",
     "output_type": "stream",
     "text": [
      "['C00158', 'C00074', 'C00036', 'C00417', 'C16255', 'C00122', 'C00026', 'C00091', 'C16254', 'C00042', 'C05379', 'C00022'] 3 ['C00122', 'C00026', 'C05379'] 4 ['C00024', 'C05125', 'C15972', 'C15973']\n"
     ]
    },
    {
     "name": "stderr",
     "output_type": "stream",
     "text": [
      "/tmp/ipykernel_1380361/3420422285.py:156: FutureWarning: The frame.append method is deprecated and will be removed from pandas in a future version. Use pandas.concat instead.\n",
      "  df = df.append(rec, ignore_index=True)\n"
     ]
    },
    {
     "name": "stdout",
     "output_type": "stream",
     "text": [
      "['C00158', 'C00074', 'C00417', 'C16255', 'C00026', 'C16254', 'C00311', 'C05379', 'C05125', 'C15972', 'C15973', 'C00149'] 7 ['C00158', 'C00417', 'C16255', 'C00311', 'C05379', 'C15973', 'C00149'] 6 ['C00036', 'C00091', 'C00068', 'C00042', 'C00022', 'C05381']\n"
     ]
    },
    {
     "name": "stderr",
     "output_type": "stream",
     "text": [
      "/tmp/ipykernel_1380361/3420422285.py:156: FutureWarning: The frame.append method is deprecated and will be removed from pandas in a future version. Use pandas.concat instead.\n",
      "  df = df.append(rec, ignore_index=True)\n"
     ]
    },
    {
     "name": "stdout",
     "output_type": "stream",
     "text": [
      "['C00158', 'C00074', 'C00122', 'C16254', 'C00068', 'C00042', 'C05379', 'C00024', 'C05125', 'C05381', 'C15972', 'C00149'] 6 ['C00122', 'C00042', 'C05379', 'C00024', 'C15972', 'C00149'] 0 []\n"
     ]
    },
    {
     "name": "stderr",
     "output_type": "stream",
     "text": [
      "/tmp/ipykernel_1380361/3420422285.py:156: FutureWarning: The frame.append method is deprecated and will be removed from pandas in a future version. Use pandas.concat instead.\n",
      "  df = df.append(rec, ignore_index=True)\n"
     ]
    },
    {
     "name": "stdout",
     "output_type": "stream",
     "text": [
      "['C00158', 'C00074', 'C00417', 'C00122', 'C00091', 'C16254', 'C00042', 'C00024', 'C05125', 'C05381', 'C15972', 'C15973'] 2 ['C00158', 'C00417'] 4 ['C16255', 'C00026', 'C00022', 'C00149']\n"
     ]
    },
    {
     "name": "stderr",
     "output_type": "stream",
     "text": [
      "/tmp/ipykernel_1380361/3420422285.py:156: FutureWarning: The frame.append method is deprecated and will be removed from pandas in a future version. Use pandas.concat instead.\n",
      "  df = df.append(rec, ignore_index=True)\n"
     ]
    },
    {
     "name": "stdout",
     "output_type": "stream",
     "text": [
      "['C00074', 'C00036', 'C00417', 'C16255', 'C00122', 'C00091', 'C16254', 'C00068', 'C00042', 'C00311', 'C05379', 'C00024', 'C00022', 'C05381', 'C15972', 'C15973', 'C00149'] 9 ['C00122', 'C00091', 'C16254', 'C00042', 'C05379', 'C00024', 'C00022', 'C15973', 'C00149'] 1 ['C05125']\n"
     ]
    },
    {
     "name": "stderr",
     "output_type": "stream",
     "text": [
      "/tmp/ipykernel_1380361/3420422285.py:156: FutureWarning: The frame.append method is deprecated and will be removed from pandas in a future version. Use pandas.concat instead.\n",
      "  df = df.append(rec, ignore_index=True)\n"
     ]
    },
    {
     "name": "stdout",
     "output_type": "stream",
     "text": [
      "['C00074', 'C00036', 'C00417', 'C16255', 'C00026', 'C00091', 'C16254', 'C00068', 'C00042', 'C00311', 'C05379', 'C00024', 'C05125', 'C05381', 'C15972', 'C15973', 'C00149'] 9 ['C00036', 'C00417', 'C00026', 'C00091', 'C16254', 'C00042', 'C00311', 'C15973', 'C00149'] 1 ['C00158']\n"
     ]
    },
    {
     "name": "stderr",
     "output_type": "stream",
     "text": [
      "/tmp/ipykernel_1380361/3420422285.py:156: FutureWarning: The frame.append method is deprecated and will be removed from pandas in a future version. Use pandas.concat instead.\n",
      "  df = df.append(rec, ignore_index=True)\n"
     ]
    },
    {
     "name": "stdout",
     "output_type": "stream",
     "text": [
      "['C00074', 'C00036', 'C00417', 'C16255', 'C00122', 'C00026', 'C16254', 'C00068', 'C00311', 'C05379', 'C00024', 'C05125', 'C00022', 'C05381', 'C15972', 'C15973', 'C00149'] 6 ['C00036', 'C16255', 'C00122', 'C00024', 'C15973', 'C00149'] 1 ['C00158']\n"
     ]
    },
    {
     "name": "stderr",
     "output_type": "stream",
     "text": [
      "/tmp/ipykernel_1380361/3420422285.py:156: FutureWarning: The frame.append method is deprecated and will be removed from pandas in a future version. Use pandas.concat instead.\n",
      "  df = df.append(rec, ignore_index=True)\n"
     ]
    },
    {
     "name": "stdout",
     "output_type": "stream",
     "text": [
      "['C00158', 'C00074', 'C16255', 'C00122', 'C00026', 'C16254', 'C00068', 'C00042', 'C00311', 'C05379', 'C00024', 'C05125', 'C00022', 'C05381', 'C15972', 'C15973', 'C00149'] 4 ['C00042', 'C05379', 'C15972', 'C15973'] 2 ['C00036', 'C00417']\n"
     ]
    },
    {
     "name": "stderr",
     "output_type": "stream",
     "text": [
      "/tmp/ipykernel_1380361/3420422285.py:156: FutureWarning: The frame.append method is deprecated and will be removed from pandas in a future version. Use pandas.concat instead.\n",
      "  df = df.append(rec, ignore_index=True)\n"
     ]
    },
    {
     "name": "stdout",
     "output_type": "stream",
     "text": [
      "['C00158', 'C00074', 'C00417', 'C16255', 'C00122', 'C00026', 'C00091', 'C16254', 'C00068', 'C00042', 'C00311', 'C00024', 'C05125', 'C00022', 'C15972', 'C15973', 'C00149'] 3 ['C00158', 'C00417', 'C00311'] 2 ['C00036', 'C05381']\n"
     ]
    },
    {
     "name": "stderr",
     "output_type": "stream",
     "text": [
      "/tmp/ipykernel_1380361/3420422285.py:156: FutureWarning: The frame.append method is deprecated and will be removed from pandas in a future version. Use pandas.concat instead.\n",
      "  df = df.append(rec, ignore_index=True)\n"
     ]
    },
    {
     "name": "stdout",
     "output_type": "stream",
     "text": [
      "['C00673', 'C01236'] 1 ['C00673'] 9 ['C01801', 'C00257', 'C05378', 'C05382', 'C00620', 'C00231', 'C00022', 'C05345', 'C04442']\n"
     ]
    },
    {
     "name": "stderr",
     "output_type": "stream",
     "text": [
      "/tmp/ipykernel_1380361/3420422285.py:156: FutureWarning: The frame.append method is deprecated and will be removed from pandas in a future version. Use pandas.concat instead.\n",
      "  df = df.append(rec, ignore_index=True)\n"
     ]
    },
    {
     "name": "stdout",
     "output_type": "stream",
     "text": [
      "['C00231', 'C00118'] 2 ['C00231', 'C00118'] 11 ['C01801', 'C00257', 'C06473', 'C00121', 'C00620', 'C00668', 'C00199', 'C00022', 'C01172', 'C00119', 'C00345']\n"
     ]
    },
    {
     "name": "stderr",
     "output_type": "stream",
     "text": [
      "/tmp/ipykernel_1380361/3420422285.py:156: FutureWarning: The frame.append method is deprecated and will be removed from pandas in a future version. Use pandas.concat instead.\n",
      "  df = df.append(rec, ignore_index=True)\n"
     ]
    },
    {
     "name": "stdout",
     "output_type": "stream",
     "text": [
      "['C00198', 'C00022'] 0 [] 1 ['C00199']\n"
     ]
    },
    {
     "name": "stderr",
     "output_type": "stream",
     "text": [
      "/tmp/ipykernel_1380361/3420422285.py:156: FutureWarning: The frame.append method is deprecated and will be removed from pandas in a future version. Use pandas.concat instead.\n",
      "  df = df.append(rec, ignore_index=True)\n"
     ]
    },
    {
     "name": "stdout",
     "output_type": "stream",
     "text": [
      "['C00198', 'C00199'] 1 ['C00199'] 8 ['C01801', 'C00257', 'C05378', 'C06473', 'C00672', 'C00121', 'C00231', 'C01172']\n"
     ]
    },
    {
     "name": "stderr",
     "output_type": "stream",
     "text": [
      "/tmp/ipykernel_1380361/3420422285.py:156: FutureWarning: The frame.append method is deprecated and will be removed from pandas in a future version. Use pandas.concat instead.\n",
      "  df = df.append(rec, ignore_index=True)\n"
     ]
    },
    {
     "name": "stdout",
     "output_type": "stream",
     "text": [
      "['C05378', 'C01236'] 1 ['C01236'] 10 ['C00279', 'C05382', 'C00672', 'C00620', 'C00668', 'C00198', 'C00231', 'C00199', 'C00022', 'C04442']\n"
     ]
    },
    {
     "name": "stderr",
     "output_type": "stream",
     "text": [
      "/tmp/ipykernel_1380361/3420422285.py:156: FutureWarning: The frame.append method is deprecated and will be removed from pandas in a future version. Use pandas.concat instead.\n",
      "  df = df.append(rec, ignore_index=True)\n"
     ]
    },
    {
     "name": "stdout",
     "output_type": "stream",
     "text": [
      "['C01801', 'C00673', 'C00121', 'C00668', 'C00199', 'C01236', 'C00117'] 2 ['C00673', 'C00117'] 5 ['C00279', 'C06473', 'C00672', 'C01172', 'C00119']\n"
     ]
    },
    {
     "name": "stderr",
     "output_type": "stream",
     "text": [
      "/tmp/ipykernel_1380361/3420422285.py:156: FutureWarning: The frame.append method is deprecated and will be removed from pandas in a future version. Use pandas.concat instead.\n",
      "  df = df.append(rec, ignore_index=True)\n"
     ]
    },
    {
     "name": "stdout",
     "output_type": "stream",
     "text": [
      "['C01801', 'C05382', 'C00672', 'C00620', 'C00199', 'C01172', 'C00119'] 1 ['C00199'] 5 ['C00121', 'C00668', 'C00022', 'C04442', 'C00117']\n"
     ]
    },
    {
     "name": "stderr",
     "output_type": "stream",
     "text": [
      "/tmp/ipykernel_1380361/3420422285.py:156: FutureWarning: The frame.append method is deprecated and will be removed from pandas in a future version. Use pandas.concat instead.\n",
      "  df = df.append(rec, ignore_index=True)\n"
     ]
    },
    {
     "name": "stdout",
     "output_type": "stream",
     "text": [
      "['C01801', 'C00257', 'C05382', 'C00672', 'C00121', 'C00231', 'C00022'] 1 ['C00257'] 8 ['C00279', 'C00673', 'C00620', 'C00668', 'C00198', 'C01236', 'C01172', 'C05345']\n"
     ]
    },
    {
     "name": "stderr",
     "output_type": "stream",
     "text": [
      "/tmp/ipykernel_1380361/3420422285.py:156: FutureWarning: The frame.append method is deprecated and will be removed from pandas in a future version. Use pandas.concat instead.\n",
      "  df = df.append(rec, ignore_index=True)\n"
     ]
    },
    {
     "name": "stdout",
     "output_type": "stream",
     "text": [
      "['C00279', 'C00620', 'C00668', 'C00198', 'C01172', 'C05345', 'C04442'] 3 ['C00198', 'C05345', 'C04442'] 5 ['C01801', 'C05382', 'C00672', 'C00121', 'C01236']\n"
     ]
    },
    {
     "name": "stderr",
     "output_type": "stream",
     "text": [
      "/tmp/ipykernel_1380361/3420422285.py:156: FutureWarning: The frame.append method is deprecated and will be removed from pandas in a future version. Use pandas.concat instead.\n",
      "  df = df.append(rec, ignore_index=True)\n"
     ]
    },
    {
     "name": "stdout",
     "output_type": "stream",
     "text": [
      "['C05378', 'C06473', 'C00198', 'C00231', 'C00199', 'C04442', 'C00119'] 2 ['C00199', 'C04442'] 8 ['C01801', 'C00257', 'C00279', 'C05382', 'C00121', 'C00022', 'C00118', 'C01172']\n"
     ]
    },
    {
     "name": "stderr",
     "output_type": "stream",
     "text": [
      "/tmp/ipykernel_1380361/3420422285.py:156: FutureWarning: The frame.append method is deprecated and will be removed from pandas in a future version. Use pandas.concat instead.\n",
      "  df = df.append(rec, ignore_index=True)\n"
     ]
    },
    {
     "name": "stdout",
     "output_type": "stream",
     "text": [
      "['C05378', 'C05382', 'C00672', 'C00620', 'C00231', 'C00199', 'C00022', 'C01236', 'C01172', 'C05345', 'C00117', 'C00345'] 8 ['C05378', 'C05382', 'C00231', 'C01236', 'C01172', 'C05345', 'C00117', 'C00345'] 5 ['C01801', 'C06473', 'C00673', 'C00198', 'C04442']\n"
     ]
    },
    {
     "name": "stderr",
     "output_type": "stream",
     "text": [
      "/tmp/ipykernel_1380361/3420422285.py:156: FutureWarning: The frame.append method is deprecated and will be removed from pandas in a future version. Use pandas.concat instead.\n",
      "  df = df.append(rec, ignore_index=True)\n"
     ]
    },
    {
     "name": "stdout",
     "output_type": "stream",
     "text": [
      "['C00257', 'C00279', 'C06473', 'C00672', 'C00121', 'C00620', 'C00668', 'C00199', 'C01236', 'C01172', 'C05345', 'C00119'] 6 ['C00121', 'C00668', 'C00199', 'C01172', 'C05345', 'C00119'] 5 ['C01801', 'C05378', 'C00198', 'C00022', 'C00345']\n"
     ]
    },
    {
     "name": "stderr",
     "output_type": "stream",
     "text": [
      "/tmp/ipykernel_1380361/3420422285.py:156: FutureWarning: The frame.append method is deprecated and will be removed from pandas in a future version. Use pandas.concat instead.\n",
      "  df = df.append(rec, ignore_index=True)\n"
     ]
    },
    {
     "name": "stdout",
     "output_type": "stream",
     "text": [
      "['C01801', 'C00257', 'C05378', 'C00673', 'C00620', 'C00668', 'C00198', 'C00231', 'C01172', 'C05345', 'C00119', 'C00117'] 7 ['C01801', 'C00668', 'C00198', 'C01172', 'C05345', 'C00119', 'C00117'] 3 ['C06473', 'C00672', 'C00199']\n"
     ]
    },
    {
     "name": "stderr",
     "output_type": "stream",
     "text": [
      "/tmp/ipykernel_1380361/3420422285.py:156: FutureWarning: The frame.append method is deprecated and will be removed from pandas in a future version. Use pandas.concat instead.\n",
      "  df = df.append(rec, ignore_index=True)\n"
     ]
    },
    {
     "name": "stdout",
     "output_type": "stream",
     "text": [
      "['C01801', 'C06473', 'C00673', 'C05382', 'C00121', 'C00620', 'C00231', 'C00199', 'C01236', 'C04442', 'C00119', 'C00117'] 4 ['C00673', 'C00199', 'C00119', 'C00117'] 6 ['C00257', 'C05378', 'C00279', 'C00672', 'C00198', 'C00022']\n"
     ]
    },
    {
     "name": "stderr",
     "output_type": "stream",
     "text": [
      "/tmp/ipykernel_1380361/3420422285.py:156: FutureWarning: The frame.append method is deprecated and will be removed from pandas in a future version. Use pandas.concat instead.\n",
      "  df = df.append(rec, ignore_index=True)\n"
     ]
    },
    {
     "name": "stdout",
     "output_type": "stream",
     "text": [
      "['C01801', 'C00257', 'C05378', 'C00673', 'C05382', 'C00121', 'C00199', 'C00118', 'C01172', 'C05345', 'C00119', 'C00345'] 6 ['C00257', 'C05378', 'C00199', 'C00118', 'C05345', 'C00345'] 4 ['C06473', 'C00672', 'C00620', 'C00022']\n"
     ]
    },
    {
     "name": "stderr",
     "output_type": "stream",
     "text": [
      "/tmp/ipykernel_1380361/3420422285.py:156: FutureWarning: The frame.append method is deprecated and will be removed from pandas in a future version. Use pandas.concat instead.\n",
      "  df = df.append(rec, ignore_index=True)\n"
     ]
    },
    {
     "name": "stdout",
     "output_type": "stream",
     "text": [
      "['C01801', 'C00257', 'C05378', 'C00279', 'C06473', 'C00673', 'C05382', 'C00672', 'C00121', 'C00620', 'C00668', 'C00231', 'C00199', 'C00118', 'C01172', 'C04442', 'C00345'] 9 ['C05378', 'C00279', 'C05382', 'C00121', 'C00668', 'C00231', 'C00118', 'C01172', 'C04442'] 1 ['C00022']\n"
     ]
    },
    {
     "name": "stderr",
     "output_type": "stream",
     "text": [
      "/tmp/ipykernel_1380361/3420422285.py:156: FutureWarning: The frame.append method is deprecated and will be removed from pandas in a future version. Use pandas.concat instead.\n",
      "  df = df.append(rec, ignore_index=True)\n"
     ]
    },
    {
     "name": "stdout",
     "output_type": "stream",
     "text": [
      "['C01801', 'C05378', 'C00673', 'C05382', 'C00672', 'C00121', 'C00620', 'C00668', 'C00198', 'C00231', 'C00199', 'C01236', 'C00118', 'C01172', 'C05345', 'C04442', 'C00117'] 11 ['C05378', 'C00673', 'C05382', 'C00121', 'C00620', 'C00668', 'C00199', 'C00118', 'C05345', 'C04442', 'C00117'] 1 ['C06473']\n"
     ]
    },
    {
     "name": "stderr",
     "output_type": "stream",
     "text": [
      "/tmp/ipykernel_1380361/3420422285.py:156: FutureWarning: The frame.append method is deprecated and will be removed from pandas in a future version. Use pandas.concat instead.\n",
      "  df = df.append(rec, ignore_index=True)\n"
     ]
    },
    {
     "name": "stdout",
     "output_type": "stream",
     "text": [
      "['C01801', 'C00257', 'C05378', 'C00279', 'C00673', 'C05382', 'C00672', 'C00620', 'C00668', 'C00198', 'C00022', 'C01236', 'C00118', 'C01172', 'C04442', 'C00117', 'C00345'] 8 ['C00257', 'C05378', 'C00668', 'C01236', 'C00118', 'C01172', 'C00117', 'C00345'] 1 ['C00121']\n"
     ]
    },
    {
     "name": "stderr",
     "output_type": "stream",
     "text": [
      "/tmp/ipykernel_1380361/3420422285.py:156: FutureWarning: The frame.append method is deprecated and will be removed from pandas in a future version. Use pandas.concat instead.\n",
      "  df = df.append(rec, ignore_index=True)\n"
     ]
    },
    {
     "name": "stdout",
     "output_type": "stream",
     "text": [
      "['C01801', 'C00257', 'C00279', 'C00673', 'C05382', 'C00121', 'C00620', 'C00668', 'C00231', 'C00199', 'C00022', 'C01236', 'C00118', 'C05345', 'C04442', 'C00119', 'C00117'] 8 ['C01801', 'C00257', 'C00231', 'C00199', 'C05345', 'C04442', 'C00119', 'C00117'] 4 ['C00672', 'C00198', 'C01172', 'C00345']\n"
     ]
    },
    {
     "name": "stderr",
     "output_type": "stream",
     "text": [
      "/tmp/ipykernel_1380361/3420422285.py:156: FutureWarning: The frame.append method is deprecated and will be removed from pandas in a future version. Use pandas.concat instead.\n",
      "  df = df.append(rec, ignore_index=True)\n"
     ]
    },
    {
     "name": "stdout",
     "output_type": "stream",
     "text": [
      "['C01801', 'C00257', 'C05378', 'C06473', 'C00673', 'C05382', 'C00121', 'C00620', 'C00668', 'C00198', 'C00231', 'C00022', 'C00118', 'C01172', 'C04442', 'C00117', 'C00345'] 11 ['C00257', 'C05378', 'C06473', 'C00673', 'C05382', 'C00620', 'C00231', 'C00118', 'C04442', 'C00117', 'C00345'] 0 []\n"
     ]
    },
    {
     "name": "stderr",
     "output_type": "stream",
     "text": [
      "/tmp/ipykernel_1380361/3420422285.py:156: FutureWarning: The frame.append method is deprecated and will be removed from pandas in a future version. Use pandas.concat instead.\n",
      "  df = df.append(rec, ignore_index=True)\n"
     ]
    },
    {
     "name": "stdout",
     "output_type": "stream",
     "text": [
      "['C01801', 'C00257', 'C05378', 'C00279', 'C06473', 'C00673', 'C05382', 'C00672', 'C00121', 'C00620', 'C00668', 'C00198', 'C00231', 'C00199', 'C00022', 'C01236', 'C00118', 'C01172', 'C05345', 'C04442', 'C00117', 'C00345'] 10 ['C00121', 'C00668', 'C00198', 'C00231', 'C00199', 'C00022', 'C00118', 'C04442', 'C00117', 'C00345'] 0 []\n"
     ]
    },
    {
     "name": "stderr",
     "output_type": "stream",
     "text": [
      "/tmp/ipykernel_1380361/3420422285.py:156: FutureWarning: The frame.append method is deprecated and will be removed from pandas in a future version. Use pandas.concat instead.\n",
      "  df = df.append(rec, ignore_index=True)\n"
     ]
    },
    {
     "name": "stdout",
     "output_type": "stream",
     "text": [
      "['C01801', 'C00257', 'C05378', 'C06473', 'C00673', 'C05382', 'C00672', 'C00121', 'C00620', 'C00668', 'C00198', 'C00231', 'C00199', 'C00022', 'C01236', 'C00118', 'C01172', 'C05345', 'C04442', 'C00119', 'C00117', 'C00345'] 14 ['C01801', 'C00257', 'C05378', 'C06473', 'C00673', 'C00668', 'C00198', 'C00231', 'C00199', 'C00118', 'C01172', 'C05345', 'C00119', 'C00117'] 0 []\n"
     ]
    },
    {
     "name": "stderr",
     "output_type": "stream",
     "text": [
      "/tmp/ipykernel_1380361/3420422285.py:156: FutureWarning: The frame.append method is deprecated and will be removed from pandas in a future version. Use pandas.concat instead.\n",
      "  df = df.append(rec, ignore_index=True)\n"
     ]
    },
    {
     "name": "stdout",
     "output_type": "stream",
     "text": [
      "['C01801', 'C05378', 'C00279', 'C06473', 'C00673', 'C05382', 'C00672', 'C00121', 'C00620', 'C00668', 'C00198', 'C00231', 'C00199', 'C00022', 'C01236', 'C00118', 'C01172', 'C05345', 'C04442', 'C00119', 'C00117', 'C00345'] 12 ['C01801', 'C05378', 'C00673', 'C00121', 'C00668', 'C01236', 'C00118', 'C01172', 'C05345', 'C04442', 'C00117', 'C00345'] 1 ['C00257']\n"
     ]
    },
    {
     "name": "stderr",
     "output_type": "stream",
     "text": [
      "/tmp/ipykernel_1380361/3420422285.py:156: FutureWarning: The frame.append method is deprecated and will be removed from pandas in a future version. Use pandas.concat instead.\n",
      "  df = df.append(rec, ignore_index=True)\n"
     ]
    },
    {
     "name": "stdout",
     "output_type": "stream",
     "text": [
      "['C01801', 'C00257', 'C05378', 'C00279', 'C06473', 'C00673', 'C05382', 'C00672', 'C00121', 'C00620', 'C00668', 'C00198', 'C00199', 'C00022', 'C01236', 'C00118', 'C01172', 'C05345', 'C04442', 'C00119', 'C00117', 'C00345'] 8 ['C05378', 'C00673', 'C00198', 'C00199', 'C00118', 'C05345', 'C04442', 'C00345'] 1 ['C00231']\n"
     ]
    },
    {
     "name": "stderr",
     "output_type": "stream",
     "text": [
      "/tmp/ipykernel_1380361/3420422285.py:156: FutureWarning: The frame.append method is deprecated and will be removed from pandas in a future version. Use pandas.concat instead.\n",
      "  df = df.append(rec, ignore_index=True)\n"
     ]
    },
    {
     "name": "stdout",
     "output_type": "stream",
     "text": [
      "['C01801', 'C00257', 'C00279', 'C06473', 'C00673', 'C05382', 'C00672', 'C00121', 'C00620', 'C00668', 'C00198', 'C00231', 'C00199', 'C00022', 'C01236', 'C00118', 'C01172', 'C05345', 'C04442', 'C00119', 'C00117', 'C00345'] 10 ['C00257', 'C00673', 'C05382', 'C00231', 'C00199', 'C01172', 'C05345', 'C04442', 'C00117', 'C00345'] 0 []\n"
     ]
    },
    {
     "name": "stderr",
     "output_type": "stream",
     "text": [
      "/tmp/ipykernel_1380361/3420422285.py:156: FutureWarning: The frame.append method is deprecated and will be removed from pandas in a future version. Use pandas.concat instead.\n",
      "  df = df.append(rec, ignore_index=True)\n"
     ]
    },
    {
     "name": "stdout",
     "output_type": "stream",
     "text": [
      "['C03232', 'C00576'] 0 [] 15 ['C00740', 'C02737', 'C00109', 'C00078', 'C00258', 'C00014', 'C05519', 'C00197', 'C02972', 'C00022', 'C01102', 'C00168', 'C00188', 'C00719', 'C00631']\n"
     ]
    },
    {
     "name": "stderr",
     "output_type": "stream",
     "text": [
      "/tmp/ipykernel_1380361/3420422285.py:156: FutureWarning: The frame.append method is deprecated and will be removed from pandas in a future version. Use pandas.concat instead.\n",
      "  df = df.append(rec, ignore_index=True)\n"
     ]
    },
    {
     "name": "stdout",
     "output_type": "stream",
     "text": [
      "['C00258', 'C00631'] 0 [] 15 ['C02737', 'C00109', 'C03232', 'C00143', 'C00014', 'C00546', 'C05519', 'C00197', 'C02972', 'C00441', 'C00263', 'C01102', 'C00168', 'C03082', 'C00188']\n"
     ]
    },
    {
     "name": "stderr",
     "output_type": "stream",
     "text": [
      "/tmp/ipykernel_1380361/3420422285.py:156: FutureWarning: The frame.append method is deprecated and will be removed from pandas in a future version. Use pandas.concat instead.\n",
      "  df = df.append(rec, ignore_index=True)\n"
     ]
    },
    {
     "name": "stdout",
     "output_type": "stream",
     "text": [
      "['C00078', 'C00719'] 0 [] 18 ['C02737', 'C00109', 'C01242', 'C00143', 'C00014', 'C00546', 'C00011', 'C00576', 'C05519', 'C03508', 'C02972', 'C00441', 'C00022', 'C00263', 'C01102', 'C00168', 'C03082', 'C02051']\n"
     ]
    },
    {
     "name": "stderr",
     "output_type": "stream",
     "text": [
      "/tmp/ipykernel_1380361/3420422285.py:156: FutureWarning: The frame.append method is deprecated and will be removed from pandas in a future version. Use pandas.concat instead.\n",
      "  df = df.append(rec, ignore_index=True)\n"
     ]
    },
    {
     "name": "stdout",
     "output_type": "stream",
     "text": [
      "['C01242', 'C02051'] 2 ['C01242', 'C02051'] 13 ['C00740', 'C00078', 'C00258', 'C00546', 'C03508', 'C00022', 'C00263', 'C01102', 'C00168', 'C03082', 'C01005', 'C00719', 'C00631']\n"
     ]
    },
    {
     "name": "stderr",
     "output_type": "stream",
     "text": [
      "/tmp/ipykernel_1380361/3420422285.py:156: FutureWarning: The frame.append method is deprecated and will be removed from pandas in a future version. Use pandas.concat instead.\n",
      "  df = df.append(rec, ignore_index=True)\n"
     ]
    },
    {
     "name": "stdout",
     "output_type": "stream",
     "text": [
      "['C03232', 'C00441'] 1 ['C03232'] 13 ['C02737', 'C01242', 'C00078', 'C00258', 'C00014', 'C00546', 'C02972', 'C00022', 'C01102', 'C00168', 'C03082', 'C02051', 'C00631']\n"
     ]
    },
    {
     "name": "stderr",
     "output_type": "stream",
     "text": [
      "/tmp/ipykernel_1380361/3420422285.py:156: FutureWarning: The frame.append method is deprecated and will be removed from pandas in a future version. Use pandas.concat instead.\n",
      "  df = df.append(rec, ignore_index=True)\n"
     ]
    },
    {
     "name": "stdout",
     "output_type": "stream",
     "text": [
      "['C00740', 'C00109', 'C00065', 'C05519', 'C00037', 'C00263', 'C02051'] 6 ['C00740', 'C00109', 'C00065', 'C00037', 'C00263', 'C02051'] 9 ['C00078', 'C00258', 'C00576', 'C01102', 'C00168', 'C03082', 'C01005', 'C00719', 'C00631']\n"
     ]
    },
    {
     "name": "stderr",
     "output_type": "stream",
     "text": [
      "/tmp/ipykernel_1380361/3420422285.py:156: FutureWarning: The frame.append method is deprecated and will be removed from pandas in a future version. Use pandas.concat instead.\n",
      "  df = df.append(rec, ignore_index=True)\n"
     ]
    },
    {
     "name": "stdout",
     "output_type": "stream",
     "text": [
      "['C00011', 'C00576', 'C05519', 'C01102', 'C03082', 'C00719', 'C00631'] 3 ['C05519', 'C01102', 'C00631'] 14 ['C02737', 'C00109', 'C01242', 'C00078', 'C00143', 'C00014', 'C00546', 'C00197', 'C03508', 'C02972', 'C00022', 'C00168', 'C00188', 'C02051']\n"
     ]
    },
    {
     "name": "stderr",
     "output_type": "stream",
     "text": [
      "/tmp/ipykernel_1380361/3420422285.py:156: FutureWarning: The frame.append method is deprecated and will be removed from pandas in a future version. Use pandas.concat instead.\n",
      "  df = df.append(rec, ignore_index=True)\n"
     ]
    },
    {
     "name": "stdout",
     "output_type": "stream",
     "text": [
      "['C01242', 'C00143', 'C00014', 'C03508', 'C00022', 'C00263', 'C01005'] 2 ['C00022', 'C01005'] 11 ['C02737', 'C00109', 'C00546', 'C00011', 'C05519', 'C00037', 'C00168', 'C00188', 'C00719', 'C02051', 'C00631']\n"
     ]
    },
    {
     "name": "stderr",
     "output_type": "stream",
     "text": [
      "/tmp/ipykernel_1380361/3420422285.py:156: FutureWarning: The frame.append method is deprecated and will be removed from pandas in a future version. Use pandas.concat instead.\n",
      "  df = df.append(rec, ignore_index=True)\n"
     ]
    },
    {
     "name": "stdout",
     "output_type": "stream",
     "text": [
      "['C00065', 'C03508', 'C01102', 'C03082', 'C01005', 'C00719', 'C00631'] 2 ['C00065', 'C03508'] 8 ['C00109', 'C03232', 'C00258', 'C00546', 'C00441', 'C00263', 'C00168', 'C00188']\n"
     ]
    },
    {
     "name": "stderr",
     "output_type": "stream",
     "text": [
      "/tmp/ipykernel_1380361/3420422285.py:156: FutureWarning: The frame.append method is deprecated and will be removed from pandas in a future version. Use pandas.concat instead.\n",
      "  df = df.append(rec, ignore_index=True)\n"
     ]
    },
    {
     "name": "stdout",
     "output_type": "stream",
     "text": [
      "['C00065', 'C00441', 'C00022', 'C00188', 'C00719', 'C02051', 'C00631'] 0 [] 20 ['C00740', 'C02737', 'C00109', 'C01242', 'C00078', 'C03232', 'C00258', 'C00014', 'C00546', 'C00011', 'C05519', 'C00197', 'C00037', 'C03508', 'C02972', 'C00263', 'C01102', 'C00168', 'C03082', 'C01005']\n"
     ]
    },
    {
     "name": "stderr",
     "output_type": "stream",
     "text": [
      "/tmp/ipykernel_1380361/3420422285.py:156: FutureWarning: The frame.append method is deprecated and will be removed from pandas in a future version. Use pandas.concat instead.\n",
      "  df = df.append(rec, ignore_index=True)\n"
     ]
    },
    {
     "name": "stdout",
     "output_type": "stream",
     "text": [
      "['C00740', 'C00109', 'C01242', 'C00546', 'C00065', 'C00022', 'C01102', 'C00168', 'C01005', 'C00188', 'C00719', 'C02051'] 1 ['C01005'] 10 ['C02737', 'C00078', 'C00143', 'C00014', 'C00011', 'C05519', 'C00197', 'C00037', 'C02972', 'C00263']\n"
     ]
    },
    {
     "name": "stderr",
     "output_type": "stream",
     "text": [
      "/tmp/ipykernel_1380361/3420422285.py:156: FutureWarning: The frame.append method is deprecated and will be removed from pandas in a future version. Use pandas.concat instead.\n",
      "  df = df.append(rec, ignore_index=True)\n"
     ]
    },
    {
     "name": "stdout",
     "output_type": "stream",
     "text": [
      "['C00740', 'C00109', 'C00546', 'C00011', 'C05519', 'C03508', 'C02972', 'C00022', 'C00263', 'C01102', 'C00168', 'C00188'] 6 ['C00740', 'C00011', 'C02972', 'C00263', 'C01102', 'C00188'] 1 ['C02737']\n"
     ]
    },
    {
     "name": "stderr",
     "output_type": "stream",
     "text": [
      "/tmp/ipykernel_1380361/3420422285.py:156: FutureWarning: The frame.append method is deprecated and will be removed from pandas in a future version. Use pandas.concat instead.\n",
      "  df = df.append(rec, ignore_index=True)\n"
     ]
    },
    {
     "name": "stdout",
     "output_type": "stream",
     "text": [
      "['C00078', 'C00143', 'C00011', 'C00576', 'C00197', 'C03508', 'C00441', 'C00263', 'C01102', 'C00168', 'C01005', 'C00188'] 2 ['C00576', 'C03508'] 10 ['C02737', 'C00109', 'C03232', 'C00258', 'C00014', 'C00546', 'C05519', 'C02972', 'C00719', 'C02051']\n"
     ]
    },
    {
     "name": "stderr",
     "output_type": "stream",
     "text": [
      "/tmp/ipykernel_1380361/3420422285.py:156: FutureWarning: The frame.append method is deprecated and will be removed from pandas in a future version. Use pandas.concat instead.\n",
      "  df = df.append(rec, ignore_index=True)\n"
     ]
    },
    {
     "name": "stdout",
     "output_type": "stream",
     "text": [
      "['C00740', 'C02737', 'C00109', 'C01242', 'C00078', 'C03232', 'C00014', 'C00197', 'C00037', 'C00022', 'C03082', 'C00719'] 5 ['C00740', 'C01242', 'C00014', 'C00037', 'C00022'] 7 ['C00258', 'C00065', 'C00263', 'C01102', 'C00168', 'C01005', 'C02051']\n"
     ]
    },
    {
     "name": "stderr",
     "output_type": "stream",
     "text": [
      "/tmp/ipykernel_1380361/3420422285.py:156: FutureWarning: The frame.append method is deprecated and will be removed from pandas in a future version. Use pandas.concat instead.\n",
      "  df = df.append(rec, ignore_index=True)\n"
     ]
    },
    {
     "name": "stdout",
     "output_type": "stream",
     "text": [
      "['C00740', 'C01242', 'C00258', 'C00011', 'C00576', 'C05519', 'C03508', 'C02972', 'C00441', 'C00022', 'C01005', 'C00631'] 2 ['C00441', 'C01005'] 12 ['C00109', 'C00078', 'C00143', 'C00014', 'C00546', 'C00197', 'C00037', 'C00168', 'C03082', 'C00188', 'C00719', 'C02051']\n"
     ]
    },
    {
     "name": "stderr",
     "output_type": "stream",
     "text": [
      "/tmp/ipykernel_1380361/3420422285.py:156: FutureWarning: The frame.append method is deprecated and will be removed from pandas in a future version. Use pandas.concat instead.\n",
      "  df = df.append(rec, ignore_index=True)\n"
     ]
    },
    {
     "name": "stdout",
     "output_type": "stream",
     "text": [
      "['C00109', 'C00078', 'C00258', 'C00143', 'C00014', 'C00065', 'C00576', 'C05519', 'C00197', 'C00037', 'C03508', 'C00441', 'C00022', 'C00263', 'C01005', 'C00719', 'C00631'] 8 ['C00109', 'C00143', 'C00065', 'C00576', 'C00197', 'C00037', 'C00022', 'C01005'] 6 ['C00740', 'C02737', 'C01242', 'C00011', 'C00168', 'C02051']\n"
     ]
    },
    {
     "name": "stderr",
     "output_type": "stream",
     "text": [
      "/tmp/ipykernel_1380361/3420422285.py:156: FutureWarning: The frame.append method is deprecated and will be removed from pandas in a future version. Use pandas.concat instead.\n",
      "  df = df.append(rec, ignore_index=True)\n"
     ]
    },
    {
     "name": "stdout",
     "output_type": "stream",
     "text": [
      "['C02737', 'C00109', 'C00078', 'C03232', 'C00143', 'C00546', 'C00011', 'C00576', 'C05519', 'C02972', 'C00022', 'C00263', 'C00168', 'C03082', 'C01005', 'C00188', 'C00631'] 6 ['C03232', 'C00011', 'C05519', 'C00168', 'C03082', 'C00188'] 4 ['C00014', 'C00065', 'C01102', 'C00719']\n"
     ]
    },
    {
     "name": "stderr",
     "output_type": "stream",
     "text": [
      "/tmp/ipykernel_1380361/3420422285.py:156: FutureWarning: The frame.append method is deprecated and will be removed from pandas in a future version. Use pandas.concat instead.\n",
      "  df = df.append(rec, ignore_index=True)\n"
     ]
    },
    {
     "name": "stdout",
     "output_type": "stream",
     "text": [
      "['C00740', 'C01242', 'C03232', 'C00014', 'C00546', 'C00065', 'C00576', 'C00197', 'C02972', 'C00441', 'C00022', 'C00263', 'C01102', 'C01005', 'C00719', 'C02051', 'C00631'] 9 ['C00740', 'C00065', 'C00197', 'C02972', 'C00441', 'C00022', 'C00263', 'C01102', 'C00631'] 6 ['C02737', 'C00078', 'C00258', 'C00011', 'C00168', 'C03082']\n"
     ]
    },
    {
     "name": "stderr",
     "output_type": "stream",
     "text": [
      "/tmp/ipykernel_1380361/3420422285.py:156: FutureWarning: The frame.append method is deprecated and will be removed from pandas in a future version. Use pandas.concat instead.\n",
      "  df = df.append(rec, ignore_index=True)\n"
     ]
    },
    {
     "name": "stdout",
     "output_type": "stream",
     "text": [
      "['C02737', 'C00109', 'C01242', 'C03232', 'C00258', 'C00143', 'C00014', 'C00065', 'C00576', 'C00197', 'C02972', 'C00441', 'C01102', 'C00168', 'C01005', 'C00188', 'C02051'] 8 ['C02737', 'C03232', 'C00065', 'C00576', 'C00197', 'C00441', 'C01102', 'C01005'] 8 ['C00740', 'C00546', 'C00011', 'C05519', 'C00037', 'C03508', 'C00022', 'C00719']\n"
     ]
    },
    {
     "name": "stderr",
     "output_type": "stream",
     "text": [
      "/tmp/ipykernel_1380361/3420422285.py:156: FutureWarning: The frame.append method is deprecated and will be removed from pandas in a future version. Use pandas.concat instead.\n",
      "  df = df.append(rec, ignore_index=True)\n"
     ]
    },
    {
     "name": "stdout",
     "output_type": "stream",
     "text": [
      "['C00740', 'C02737', 'C00109', 'C01242', 'C00078', 'C00258', 'C00143', 'C00546', 'C00011', 'C00576', 'C05519', 'C02972', 'C00022', 'C01102', 'C03082', 'C02051', 'C00631'] 10 ['C01242', 'C00078', 'C00143', 'C00011', 'C00576', 'C05519', 'C02972', 'C01102', 'C03082', 'C02051'] 2 ['C00197', 'C00168']\n"
     ]
    },
    {
     "name": "stderr",
     "output_type": "stream",
     "text": [
      "/tmp/ipykernel_1380361/3420422285.py:156: FutureWarning: The frame.append method is deprecated and will be removed from pandas in a future version. Use pandas.concat instead.\n",
      "  df = df.append(rec, ignore_index=True)\n"
     ]
    },
    {
     "name": "stdout",
     "output_type": "stream",
     "text": [
      "['C00740', 'C01242', 'C03232', 'C00258', 'C00143', 'C00014', 'C00546', 'C00065', 'C00011', 'C00197', 'C00037', 'C03508', 'C02972', 'C00441', 'C00022', 'C01102', 'C00168', 'C03082', 'C01005', 'C00188', 'C02051', 'C00631'] 10 ['C00740', 'C03232', 'C00065', 'C00197', 'C00037', 'C03508', 'C00441', 'C00022', 'C03082', 'C01005'] 3 ['C00109', 'C00078', 'C00719']\n"
     ]
    },
    {
     "name": "stderr",
     "output_type": "stream",
     "text": [
      "/tmp/ipykernel_1380361/3420422285.py:156: FutureWarning: The frame.append method is deprecated and will be removed from pandas in a future version. Use pandas.concat instead.\n",
      "  df = df.append(rec, ignore_index=True)\n"
     ]
    },
    {
     "name": "stdout",
     "output_type": "stream",
     "text": [
      "['C00740', 'C02737', 'C01242', 'C00078', 'C03232', 'C00258', 'C00143', 'C00065', 'C00011', 'C05519', 'C00197', 'C00037', 'C03508', 'C02972', 'C00263', 'C01102', 'C00168', 'C03082', 'C01005', 'C00188', 'C00719', 'C00631'] 2 ['C00065', 'C00719'] 6 ['C00109', 'C00014', 'C00546', 'C00441', 'C00022', 'C02051']\n"
     ]
    },
    {
     "name": "stderr",
     "output_type": "stream",
     "text": [
      "/tmp/ipykernel_1380361/3420422285.py:156: FutureWarning: The frame.append method is deprecated and will be removed from pandas in a future version. Use pandas.concat instead.\n",
      "  df = df.append(rec, ignore_index=True)\n"
     ]
    },
    {
     "name": "stdout",
     "output_type": "stream",
     "text": [
      "['C00740', 'C02737', 'C00109', 'C03232', 'C00258', 'C00143', 'C00014', 'C00546', 'C00065', 'C00011', 'C00576', 'C05519', 'C00197', 'C02972', 'C00441', 'C00022', 'C00263', 'C01102', 'C03082', 'C00188', 'C00719', 'C02051'] 6 ['C00740', 'C03232', 'C00065', 'C00197', 'C00441', 'C00022'] 4 ['C01242', 'C00168', 'C01005', 'C00631']\n"
     ]
    },
    {
     "name": "stderr",
     "output_type": "stream",
     "text": [
      "/tmp/ipykernel_1380361/3420422285.py:156: FutureWarning: The frame.append method is deprecated and will be removed from pandas in a future version. Use pandas.concat instead.\n",
      "  df = df.append(rec, ignore_index=True)\n"
     ]
    },
    {
     "name": "stdout",
     "output_type": "stream",
     "text": [
      "['C00740', 'C00109', 'C01242', 'C00078', 'C03232', 'C00014', 'C00546', 'C00065', 'C00011', 'C00576', 'C02972', 'C00441', 'C00022', 'C00263', 'C01102', 'C00168', 'C03082', 'C01005', 'C00188', 'C00719', 'C02051', 'C00631'] 8 ['C00014', 'C00065', 'C02972', 'C00441', 'C00263', 'C01102', 'C01005', 'C00719'] 2 ['C00197', 'C03508']\n"
     ]
    },
    {
     "name": "stderr",
     "output_type": "stream",
     "text": [
      "/tmp/ipykernel_1380361/3420422285.py:156: FutureWarning: The frame.append method is deprecated and will be removed from pandas in a future version. Use pandas.concat instead.\n",
      "  df = df.append(rec, ignore_index=True)\n"
     ]
    },
    {
     "name": "stdout",
     "output_type": "stream",
     "text": [
      "['C00109', 'C00078', 'C03232', 'C00258', 'C00143', 'C00546', 'C00065', 'C00011', 'C05519', 'C00197', 'C00037', 'C03508', 'C02972', 'C00441', 'C00263', 'C01102', 'C00168', 'C01005', 'C00188', 'C00719', 'C02051', 'C00631'] 2 ['C00109', 'C00188'] 5 ['C02737', 'C01242', 'C00014', 'C00576', 'C03082']\n"
     ]
    },
    {
     "name": "stderr",
     "output_type": "stream",
     "text": [
      "/tmp/ipykernel_1380361/3420422285.py:156: FutureWarning: The frame.append method is deprecated and will be removed from pandas in a future version. Use pandas.concat instead.\n",
      "  df = df.append(rec, ignore_index=True)\n"
     ]
    },
    {
     "name": "stdout",
     "output_type": "stream",
     "text": [
      "['C00740', 'C02737', 'C01242', 'C00078', 'C00258', 'C00143', 'C00014', 'C00546', 'C00065', 'C00011', 'C00576', 'C05519', 'C00197', 'C00037', 'C03508', 'C02972', 'C00441', 'C00022', 'C00263', 'C01102', 'C00168', 'C03082', 'C01005', 'C00188', 'C00719', 'C02051', 'C00631'] 6 ['C00143', 'C00546', 'C00065', 'C00037', 'C03508', 'C01005'] 1 ['C00109']\n"
     ]
    },
    {
     "name": "stderr",
     "output_type": "stream",
     "text": [
      "/tmp/ipykernel_1380361/3420422285.py:156: FutureWarning: The frame.append method is deprecated and will be removed from pandas in a future version. Use pandas.concat instead.\n",
      "  df = df.append(rec, ignore_index=True)\n"
     ]
    },
    {
     "name": "stdout",
     "output_type": "stream",
     "text": [
      "['C02737', 'C00109', 'C01242', 'C00078', 'C03232', 'C00258', 'C00143', 'C00014', 'C00546', 'C00065', 'C00011', 'C00576', 'C05519', 'C00197', 'C00037', 'C03508', 'C02972', 'C00441', 'C00022', 'C00263', 'C01102', 'C00168', 'C03082', 'C01005', 'C00188', 'C00719', 'C00631'] 5 ['C00143', 'C00065', 'C00037', 'C00441', 'C01005'] 2 ['C00740', 'C02051']\n"
     ]
    },
    {
     "name": "stderr",
     "output_type": "stream",
     "text": [
      "/tmp/ipykernel_1380361/3420422285.py:156: FutureWarning: The frame.append method is deprecated and will be removed from pandas in a future version. Use pandas.concat instead.\n",
      "  df = df.append(rec, ignore_index=True)\n"
     ]
    },
    {
     "name": "stdout",
     "output_type": "stream",
     "text": [
      "['C00740', 'C02737', 'C01242', 'C00078', 'C03232', 'C00258', 'C00143', 'C00014', 'C00546', 'C00065', 'C00011', 'C00576', 'C05519', 'C00197', 'C03508', 'C02972', 'C00441', 'C00022', 'C00263', 'C01102', 'C00168', 'C03082', 'C01005', 'C00188', 'C00719', 'C02051', 'C00631'] 8 ['C00546', 'C00011', 'C03508', 'C02972', 'C00441', 'C03082', 'C00188', 'C02051'] 1 ['C00109']\n"
     ]
    },
    {
     "name": "stderr",
     "output_type": "stream",
     "text": [
      "/tmp/ipykernel_1380361/3420422285.py:156: FutureWarning: The frame.append method is deprecated and will be removed from pandas in a future version. Use pandas.concat instead.\n",
      "  df = df.append(rec, ignore_index=True)\n"
     ]
    },
    {
     "name": "stdout",
     "output_type": "stream",
     "text": [
      "['C00740', 'C02737', 'C00109', 'C01242', 'C00078', 'C03232', 'C00258', 'C00143', 'C00014', 'C00546', 'C00065', 'C00011', 'C00576', 'C05519', 'C00197', 'C03508', 'C00441', 'C00022', 'C00263', 'C01102', 'C00168', 'C03082', 'C01005', 'C00188', 'C00719', 'C02051', 'C00631'] 3 ['C00740', 'C00078', 'C00065'] 1 ['C02972']\n"
     ]
    },
    {
     "name": "stderr",
     "output_type": "stream",
     "text": [
      "/tmp/ipykernel_1380361/3420422285.py:156: FutureWarning: The frame.append method is deprecated and will be removed from pandas in a future version. Use pandas.concat instead.\n",
      "  df = df.append(rec, ignore_index=True)\n"
     ]
    },
    {
     "name": "stdout",
     "output_type": "stream",
     "text": [
      "['C00740', 'C02737', 'C00109', 'C01242', 'C00078', 'C00258', 'C00143', 'C00014', 'C00546', 'C00011', 'C00576', 'C05519', 'C00197', 'C00037', 'C03508', 'C02972', 'C00441', 'C00022', 'C00263', 'C01102', 'C00168', 'C03082', 'C01005', 'C00188', 'C00719', 'C02051', 'C00631'] 7 ['C00078', 'C00037', 'C03508', 'C00441', 'C00263', 'C01005', 'C00188'] 0 []\n"
     ]
    },
    {
     "name": "stderr",
     "output_type": "stream",
     "text": [
      "/tmp/ipykernel_1380361/3420422285.py:156: FutureWarning: The frame.append method is deprecated and will be removed from pandas in a future version. Use pandas.concat instead.\n",
      "  df = df.append(rec, ignore_index=True)\n"
     ]
    },
    {
     "name": "stdout",
     "output_type": "stream",
     "text": [
      "['C05401', 'C06311'] 1 ['C06311'] 17 ['C00137', 'C03733', 'C00089', 'C01097', 'C00159', 'C00668', 'C01286', 'C06377', 'C00095', 'C00794', 'C00984', 'C00267', 'C05399', 'C00116', 'C06376', 'C01235', 'C05400']\n"
     ]
    },
    {
     "name": "stderr",
     "output_type": "stream",
     "text": [
      "/tmp/ipykernel_1380361/3420422285.py:156: FutureWarning: The frame.append method is deprecated and will be removed from pandas in a future version. Use pandas.concat instead.\n",
      "  df = df.append(rec, ignore_index=True)\n"
     ]
    },
    {
     "name": "stdout",
     "output_type": "stream",
     "text": [
      "['C00446', 'C05401'] 2 ['C00446', 'C05401'] 13 ['C03733', 'C01216', 'C00031', 'C00111', 'C00668', 'C01286', 'C00095', 'C00794', 'C06311', 'C00267', 'C00118', 'C05399', 'C06376']\n"
     ]
    },
    {
     "name": "stderr",
     "output_type": "stream",
     "text": [
      "/tmp/ipykernel_1380361/3420422285.py:156: FutureWarning: The frame.append method is deprecated and will be removed from pandas in a future version. Use pandas.concat instead.\n",
      "  df = df.append(rec, ignore_index=True)\n"
     ]
    },
    {
     "name": "stdout",
     "output_type": "stream",
     "text": [
      "['C00137', 'C00492'] 0 [] 15 ['C01216', 'C03785', 'C00031', 'C05401', 'C00159', 'C00111', 'C06377', 'C00794', 'C00984', 'C06311', 'C05399', 'C06376', 'C01235', 'C05400', 'C05402']\n"
     ]
    },
    {
     "name": "stderr",
     "output_type": "stream",
     "text": [
      "/tmp/ipykernel_1380361/3420422285.py:156: FutureWarning: The frame.append method is deprecated and will be removed from pandas in a future version. Use pandas.concat instead.\n",
      "  df = df.append(rec, ignore_index=True)\n"
     ]
    },
    {
     "name": "stdout",
     "output_type": "stream",
     "text": [
      "['C00095', 'C00984'] 0 [] 13 ['C00446', 'C00137', 'C03733', 'C00089', 'C05401', 'C00111', 'C01286', 'C06377', 'C00118', 'C00116', 'C06376', 'C01235', 'C05400']\n"
     ]
    },
    {
     "name": "stderr",
     "output_type": "stream",
     "text": [
      "/tmp/ipykernel_1380361/3420422285.py:156: FutureWarning: The frame.append method is deprecated and will be removed from pandas in a future version. Use pandas.concat instead.\n",
      "  df = df.append(rec, ignore_index=True)\n"
     ]
    },
    {
     "name": "stdout",
     "output_type": "stream",
     "text": [
      "['C01097', 'C00052'] 1 ['C00052'] 12 ['C03733', 'C01216', 'C00089', 'C00492', 'C00159', 'C01286', 'C06377', 'C00095', 'C06311', 'C00267', 'C06376', 'C05400']\n"
     ]
    },
    {
     "name": "stderr",
     "output_type": "stream",
     "text": [
      "/tmp/ipykernel_1380361/3420422285.py:156: FutureWarning: The frame.append method is deprecated and will be removed from pandas in a future version. Use pandas.concat instead.\n",
      "  df = df.append(rec, ignore_index=True)\n"
     ]
    },
    {
     "name": "stdout",
     "output_type": "stream",
     "text": [
      "['C00446', 'C01216', 'C00089', 'C06377', 'C00095', 'C05399', 'C06376'] 2 ['C00446', 'C06377'] 15 ['C00137', 'C03785', 'C00031', 'C00492', 'C05401', 'C00159', 'C00111', 'C00668', 'C01286', 'C00794', 'C00984', 'C00116', 'C01235', 'C05400', 'C05402']\n"
     ]
    },
    {
     "name": "stderr",
     "output_type": "stream",
     "text": [
      "/tmp/ipykernel_1380361/3420422285.py:156: FutureWarning: The frame.append method is deprecated and will be removed from pandas in a future version. Use pandas.concat instead.\n",
      "  df = df.append(rec, ignore_index=True)\n"
     ]
    },
    {
     "name": "stdout",
     "output_type": "stream",
     "text": [
      "['C00103', 'C00668', 'C00095', 'C05399', 'C06376', 'C05402', 'C00124'] 3 ['C00668', 'C05399', 'C00124'] 14 ['C01216', 'C00089', 'C03785', 'C00031', 'C00492', 'C05401', 'C00159', 'C00111', 'C01286', 'C06377', 'C00267', 'C00118', 'C00116', 'C01235']\n"
     ]
    },
    {
     "name": "stderr",
     "output_type": "stream",
     "text": [
      "/tmp/ipykernel_1380361/3420422285.py:156: FutureWarning: The frame.append method is deprecated and will be removed from pandas in a future version. Use pandas.concat instead.\n",
      "  df = df.append(rec, ignore_index=True)\n"
     ]
    },
    {
     "name": "stdout",
     "output_type": "stream",
     "text": [
      "['C00446', 'C00089', 'C01286', 'C06377', 'C00052', 'C00984', 'C00116'] 2 ['C00052', 'C00984'] 8 ['C00137', 'C05401', 'C00159', 'C00668', 'C06311', 'C06376', 'C01235', 'C05400']\n"
     ]
    },
    {
     "name": "stderr",
     "output_type": "stream",
     "text": [
      "/tmp/ipykernel_1380361/3420422285.py:156: FutureWarning: The frame.append method is deprecated and will be removed from pandas in a future version. Use pandas.concat instead.\n",
      "  df = df.append(rec, ignore_index=True)\n"
     ]
    },
    {
     "name": "stdout",
     "output_type": "stream",
     "text": [
      "['C00446', 'C00137', 'C00111', 'C01286', 'C00095', 'C00267', 'C01235'] 1 ['C00095'] 12 ['C03733', 'C01216', 'C03785', 'C00159', 'C00668', 'C00794', 'C00984', 'C06311', 'C05399', 'C00116', 'C06376', 'C05400']\n"
     ]
    },
    {
     "name": "stderr",
     "output_type": "stream",
     "text": [
      "/tmp/ipykernel_1380361/3420422285.py:156: FutureWarning: The frame.append method is deprecated and will be removed from pandas in a future version. Use pandas.concat instead.\n",
      "  df = df.append(rec, ignore_index=True)\n"
     ]
    },
    {
     "name": "stdout",
     "output_type": "stream",
     "text": [
      "['C00492', 'C05401', 'C00111', 'C01286', 'C00095', 'C00794', 'C00116'] 0 [] 12 ['C00137', 'C01216', 'C00089', 'C00031', 'C00159', 'C00052', 'C00984', 'C05399', 'C06376', 'C01235', 'C05400', 'C05402']\n"
     ]
    },
    {
     "name": "stderr",
     "output_type": "stream",
     "text": [
      "/tmp/ipykernel_1380361/3420422285.py:156: FutureWarning: The frame.append method is deprecated and will be removed from pandas in a future version. Use pandas.concat instead.\n",
      "  df = df.append(rec, ignore_index=True)\n"
     ]
    },
    {
     "name": "stdout",
     "output_type": "stream",
     "text": [
      "['C00446', 'C00089', 'C00029', 'C00031', 'C00492', 'C05401', 'C06377', 'C00794', 'C00052', 'C06311', 'C00118', 'C05400'] 5 ['C00029', 'C05401', 'C00794', 'C00052', 'C00118'] 6 ['C00159', 'C00668', 'C01286', 'C00095', 'C00984', 'C00267']\n"
     ]
    },
    {
     "name": "stderr",
     "output_type": "stream",
     "text": [
      "/tmp/ipykernel_1380361/3420422285.py:156: FutureWarning: The frame.append method is deprecated and will be removed from pandas in a future version. Use pandas.concat instead.\n",
      "  df = df.append(rec, ignore_index=True)\n"
     ]
    },
    {
     "name": "stdout",
     "output_type": "stream",
     "text": [
      "['C00089', 'C00029', 'C03785', 'C01097', 'C00492', 'C00159', 'C00984', 'C00267', 'C05399', 'C00116', 'C05400', 'C00124'] 5 ['C01097', 'C00984', 'C00267', 'C05399', 'C00124'] 6 ['C01216', 'C00031', 'C05401', 'C06377', 'C00095', 'C05402']\n"
     ]
    },
    {
     "name": "stderr",
     "output_type": "stream",
     "text": [
      "/tmp/ipykernel_1380361/3420422285.py:156: FutureWarning: The frame.append method is deprecated and will be removed from pandas in a future version. Use pandas.concat instead.\n",
      "  df = df.append(rec, ignore_index=True)\n"
     ]
    },
    {
     "name": "stdout",
     "output_type": "stream",
     "text": [
      "['C00446', 'C00137', 'C00029', 'C03785', 'C01097', 'C00111', 'C00668', 'C00984', 'C06311', 'C00267', 'C01235', 'C05402'] 6 ['C00137', 'C00029', 'C01097', 'C00111', 'C00668', 'C00984'] 11 ['C01216', 'C00089', 'C00031', 'C05401', 'C00159', 'C01286', 'C00095', 'C00794', 'C00052', 'C06376', 'C05400']\n"
     ]
    },
    {
     "name": "stderr",
     "output_type": "stream",
     "text": [
      "/tmp/ipykernel_1380361/3420422285.py:156: FutureWarning: The frame.append method is deprecated and will be removed from pandas in a future version. Use pandas.concat instead.\n",
      "  df = df.append(rec, ignore_index=True)\n"
     ]
    },
    {
     "name": "stdout",
     "output_type": "stream",
     "text": [
      "['C03733', 'C01216', 'C00029', 'C00103', 'C00492', 'C05401', 'C00159', 'C00668', 'C00794', 'C00052', 'C00267', 'C05399'] 7 ['C00029', 'C00103', 'C00492', 'C00159', 'C00052', 'C00267', 'C05399'] 10 ['C00446', 'C00089', 'C03785', 'C00111', 'C01286', 'C00095', 'C00984', 'C06311', 'C00116', 'C06376']\n"
     ]
    },
    {
     "name": "stderr",
     "output_type": "stream",
     "text": [
      "/tmp/ipykernel_1380361/3420422285.py:156: FutureWarning: The frame.append method is deprecated and will be removed from pandas in a future version. Use pandas.concat instead.\n",
      "  df = df.append(rec, ignore_index=True)\n"
     ]
    },
    {
     "name": "stdout",
     "output_type": "stream",
     "text": [
      "['C00089', 'C00029', 'C00103', 'C00111', 'C00668', 'C06377', 'C00052', 'C00984', 'C00267', 'C00116', 'C05402', 'C00124'] 4 ['C00103', 'C00668', 'C05402', 'C00124'] 6 ['C03733', 'C01216', 'C00492', 'C05401', 'C01286', 'C06376']\n"
     ]
    },
    {
     "name": "stderr",
     "output_type": "stream",
     "text": [
      "/tmp/ipykernel_1380361/3420422285.py:156: FutureWarning: The frame.append method is deprecated and will be removed from pandas in a future version. Use pandas.concat instead.\n",
      "  df = df.append(rec, ignore_index=True)\n"
     ]
    },
    {
     "name": "stdout",
     "output_type": "stream",
     "text": [
      "['C00446', 'C03733', 'C00031', 'C05401', 'C00159', 'C00111', 'C00668', 'C01286', 'C06377', 'C00794', 'C00052', 'C06311', 'C00118', 'C00116', 'C06376', 'C05400', 'C05402'] 7 ['C00031', 'C00159', 'C00111', 'C01286', 'C00118', 'C05400', 'C05402'] 5 ['C01216', 'C01097', 'C00095', 'C00984', 'C05399']\n"
     ]
    },
    {
     "name": "stderr",
     "output_type": "stream",
     "text": [
      "/tmp/ipykernel_1380361/3420422285.py:156: FutureWarning: The frame.append method is deprecated and will be removed from pandas in a future version. Use pandas.concat instead.\n",
      "  df = df.append(rec, ignore_index=True)\n"
     ]
    },
    {
     "name": "stdout",
     "output_type": "stream",
     "text": [
      "['C00446', 'C00137', 'C00089', 'C00103', 'C01097', 'C00031', 'C00492', 'C05401', 'C00668', 'C06377', 'C00794', 'C00052', 'C06311', 'C00267', 'C00116', 'C05400', 'C00124'] 5 ['C00137', 'C00031', 'C00492', 'C00052', 'C00124'] 5 ['C00159', 'C00111', 'C01286', 'C00095', 'C06376']\n"
     ]
    },
    {
     "name": "stderr",
     "output_type": "stream",
     "text": [
      "/tmp/ipykernel_1380361/3420422285.py:156: FutureWarning: The frame.append method is deprecated and will be removed from pandas in a future version. Use pandas.concat instead.\n",
      "  df = df.append(rec, ignore_index=True)\n"
     ]
    },
    {
     "name": "stdout",
     "output_type": "stream",
     "text": [
      "['C00446', 'C03733', 'C00089', 'C01097', 'C00159', 'C00668', 'C00794', 'C00052', 'C00984', 'C06311', 'C00267', 'C00118', 'C05399', 'C00116', 'C06376', 'C01235', 'C05400'] 4 ['C01097', 'C00668', 'C00984', 'C00267'] 9 ['C00137', 'C01216', 'C00103', 'C00492', 'C05401', 'C00111', 'C01286', 'C06377', 'C00095']\n"
     ]
    },
    {
     "name": "stderr",
     "output_type": "stream",
     "text": [
      "/tmp/ipykernel_1380361/3420422285.py:156: FutureWarning: The frame.append method is deprecated and will be removed from pandas in a future version. Use pandas.concat instead.\n",
      "  df = df.append(rec, ignore_index=True)\n"
     ]
    },
    {
     "name": "stdout",
     "output_type": "stream",
     "text": [
      "['C00446', 'C00137', 'C01216', 'C00089', 'C00029', 'C00159', 'C00111', 'C00668', 'C06377', 'C00794', 'C00984', 'C00267', 'C00118', 'C00116', 'C06376', 'C05400', 'C05402'] 7 ['C00137', 'C00029', 'C06377', 'C00794', 'C00267', 'C00118', 'C00116'] 5 ['C03733', 'C00492', 'C00095', 'C00052', 'C06311']\n"
     ]
    },
    {
     "name": "stderr",
     "output_type": "stream",
     "text": [
      "/tmp/ipykernel_1380361/3420422285.py:156: FutureWarning: The frame.append method is deprecated and will be removed from pandas in a future version. Use pandas.concat instead.\n",
      "  df = df.append(rec, ignore_index=True)\n"
     ]
    },
    {
     "name": "stdout",
     "output_type": "stream",
     "text": [
      "['C03733', 'C01216', 'C00089', 'C00029', 'C00103', 'C00492', 'C00159', 'C00668', 'C01286', 'C00095', 'C00052', 'C00984', 'C00118', 'C05399', 'C00116', 'C06376', 'C01235'] 9 ['C03733', 'C00103', 'C00668', 'C00095', 'C00984', 'C00118', 'C05399', 'C00116', 'C01235'] 5 ['C05401', 'C00111', 'C00794', 'C05400', 'C05402']\n"
     ]
    },
    {
     "name": "stderr",
     "output_type": "stream",
     "text": [
      "/tmp/ipykernel_1380361/3420422285.py:156: FutureWarning: The frame.append method is deprecated and will be removed from pandas in a future version. Use pandas.concat instead.\n",
      "  df = df.append(rec, ignore_index=True)\n"
     ]
    },
    {
     "name": "stdout",
     "output_type": "stream",
     "text": [
      "['C00446', 'C00137', 'C01216', 'C00089', 'C00029', 'C00103', 'C01097', 'C00031', 'C00492', 'C05401', 'C00159', 'C00111', 'C00668', 'C00095', 'C00794', 'C06311', 'C00118', 'C05399', 'C00116', 'C01235', 'C05400', 'C05402'] 6 ['C00446', 'C00029', 'C00103', 'C01097', 'C06311', 'C05402'] 5 ['C03785', 'C06377', 'C00984', 'C00267', 'C06376']\n"
     ]
    },
    {
     "name": "stderr",
     "output_type": "stream",
     "text": [
      "/tmp/ipykernel_1380361/3420422285.py:156: FutureWarning: The frame.append method is deprecated and will be removed from pandas in a future version. Use pandas.concat instead.\n",
      "  df = df.append(rec, ignore_index=True)\n"
     ]
    },
    {
     "name": "stdout",
     "output_type": "stream",
     "text": [
      "['C00137', 'C03733', 'C01216', 'C00029', 'C03785', 'C01097', 'C00031', 'C00492', 'C05401', 'C00111', 'C00668', 'C01286', 'C00095', 'C00794', 'C00052', 'C00984', 'C05399', 'C00116', 'C06376', 'C01235', 'C05402', 'C00124'] 10 ['C01216', 'C00029', 'C00031', 'C05401', 'C00668', 'C01286', 'C00794', 'C00052', 'C00116', 'C00124'] 4 ['C00159', 'C06377', 'C06311', 'C00267']\n"
     ]
    },
    {
     "name": "stderr",
     "output_type": "stream",
     "text": [
      "/tmp/ipykernel_1380361/3420422285.py:156: FutureWarning: The frame.append method is deprecated and will be removed from pandas in a future version. Use pandas.concat instead.\n",
      "  df = df.append(rec, ignore_index=True)\n"
     ]
    },
    {
     "name": "stdout",
     "output_type": "stream",
     "text": [
      "['C00446', 'C00137', 'C01216', 'C00089', 'C00029', 'C00103', 'C00031', 'C00492', 'C05401', 'C00159', 'C00668', 'C06377', 'C00095', 'C00052', 'C00984', 'C06311', 'C00267', 'C00118', 'C00116', 'C06376', 'C05402', 'C00124'] 7 ['C01216', 'C00029', 'C00103', 'C00492', 'C00052', 'C00267', 'C00124'] 8 ['C03733', 'C03785', 'C01097', 'C00111', 'C00794', 'C05399', 'C01235', 'C05400']\n"
     ]
    },
    {
     "name": "stderr",
     "output_type": "stream",
     "text": [
      "/tmp/ipykernel_1380361/3420422285.py:156: FutureWarning: The frame.append method is deprecated and will be removed from pandas in a future version. Use pandas.concat instead.\n",
      "  df = df.append(rec, ignore_index=True)\n"
     ]
    },
    {
     "name": "stdout",
     "output_type": "stream",
     "text": [
      "['C00446', 'C00137', 'C03733', 'C01216', 'C00089', 'C00029', 'C03785', 'C00103', 'C01097', 'C00492', 'C05401', 'C00159', 'C00111', 'C00668', 'C01286', 'C00095', 'C00794', 'C00052', 'C00118', 'C05399', 'C00116', 'C06376'] 4 ['C03733', 'C00029', 'C00159', 'C00052'] 2 ['C06377', 'C00984']\n"
     ]
    },
    {
     "name": "stderr",
     "output_type": "stream",
     "text": [
      "/tmp/ipykernel_1380361/3420422285.py:156: FutureWarning: The frame.append method is deprecated and will be removed from pandas in a future version. Use pandas.concat instead.\n",
      "  df = df.append(rec, ignore_index=True)\n"
     ]
    },
    {
     "name": "stdout",
     "output_type": "stream",
     "text": [
      "['C00446', 'C01216', 'C00089', 'C03785', 'C00103', 'C01097', 'C00031', 'C00492', 'C00111', 'C00668', 'C01286', 'C06377', 'C00095', 'C00052', 'C00984', 'C00267', 'C00118', 'C05399', 'C00116', 'C01235', 'C05400', 'C05402'] 7 ['C00446', 'C00089', 'C00103', 'C00492', 'C00052', 'C00984', 'C00116'] 4 ['C00137', 'C00159', 'C00794', 'C06376']\n"
     ]
    },
    {
     "name": "stderr",
     "output_type": "stream",
     "text": [
      "/tmp/ipykernel_1380361/3420422285.py:156: FutureWarning: The frame.append method is deprecated and will be removed from pandas in a future version. Use pandas.concat instead.\n",
      "  df = df.append(rec, ignore_index=True)\n"
     ]
    },
    {
     "name": "stdout",
     "output_type": "stream",
     "text": [
      "['C00446', 'C00137', 'C01216', 'C00089', 'C00029', 'C03785', 'C00103', 'C01097', 'C00031', 'C05401', 'C00159', 'C00111', 'C00668', 'C01286', 'C06377', 'C00095', 'C00794', 'C00052', 'C00984', 'C06311', 'C00267', 'C05399', 'C00116', 'C01235', 'C05400', 'C05402', 'C00124'] 8 ['C00446', 'C00029', 'C01097', 'C01286', 'C00052', 'C00984', 'C00267', 'C00124'] 3 ['C03733', 'C00492', 'C06376']\n"
     ]
    },
    {
     "name": "stderr",
     "output_type": "stream",
     "text": [
      "/tmp/ipykernel_1380361/3420422285.py:156: FutureWarning: The frame.append method is deprecated and will be removed from pandas in a future version. Use pandas.concat instead.\n",
      "  df = df.append(rec, ignore_index=True)\n"
     ]
    },
    {
     "name": "stdout",
     "output_type": "stream",
     "text": [
      "['C00446', 'C00137', 'C03733', 'C01216', 'C00029', 'C03785', 'C00103', 'C01097', 'C00031', 'C00492', 'C05401', 'C00159', 'C00111', 'C00668', 'C01286', 'C00095', 'C00794', 'C00052', 'C00984', 'C06311', 'C00267', 'C00118', 'C00116', 'C06376', 'C05400', 'C05402', 'C00124'] 12 ['C00446', 'C00029', 'C00103', 'C01097', 'C00031', 'C00492', 'C05401', 'C00668', 'C00267', 'C00116', 'C05402', 'C00124'] 2 ['C05399', 'C01235']\n"
     ]
    },
    {
     "name": "stderr",
     "output_type": "stream",
     "text": [
      "/tmp/ipykernel_1380361/3420422285.py:156: FutureWarning: The frame.append method is deprecated and will be removed from pandas in a future version. Use pandas.concat instead.\n",
      "  df = df.append(rec, ignore_index=True)\n"
     ]
    },
    {
     "name": "stdout",
     "output_type": "stream",
     "text": [
      "['C00446', 'C00137', 'C03733', 'C00089', 'C00029', 'C03785', 'C00103', 'C01097', 'C00031', 'C00492', 'C05401', 'C00159', 'C00111', 'C00668', 'C01286', 'C06377', 'C00095', 'C00794', 'C00052', 'C00984', 'C06311', 'C00118', 'C00116', 'C06376', 'C01235', 'C05400', 'C00124'] 2 ['C00492', 'C00124'] 3 ['C01216', 'C00267', 'C05399']\n"
     ]
    },
    {
     "name": "stderr",
     "output_type": "stream",
     "text": [
      "/tmp/ipykernel_1380361/3420422285.py:156: FutureWarning: The frame.append method is deprecated and will be removed from pandas in a future version. Use pandas.concat instead.\n",
      "  df = df.append(rec, ignore_index=True)\n"
     ]
    }
   ],
   "source": [
    "#pathway_list = ['Purine', 'Carbon metabolism', 'Nucleotide metabolism', 'Biosynthesis of amino acids', 'Biosynthesis of cofactors']\n",
    "pathway_list = ['Glycerolipid', 'Citrate_cycle', 'Pentose_phosphate', 'Pyruvate', 'Galactose']\n",
    "pathway_list = ['Glycerolipid', 'Citrate_cycle', 'Pentose_phosphate', 'Glycine_serine_threonine', 'Galactose']\n",
    "#pathway_list = ['Citrate_cycle']\n",
    "\n",
    "\n",
    "#species_list = ['hsa', 'mmu']\n",
    "species_list = ['eco']\n",
    "df = pd.DataFrame(columns=['Species', 'Pathway', 'Target', 'Remain', 'Remain_Target', 'SA_damage', 'QC_damage'])\n",
    "data_type = 'small'\n",
    "\n",
    "nums_invalid = 0\n",
    "nums_total = 0\n",
    "\n",
    "for species_name  in species_list:\n",
    "    for pathway_name in pathway_list:\n",
    "        #print(pathway_name)\n",
    "        list_enzymes = []\n",
    "        list_reactions = []\n",
    "        list_compounds = []\n",
    "        nodes = []\n",
    "        edges = []\n",
    "        mode = 0\n",
    "        num_edges = 0\n",
    "        with open(data_type+'_data/'+species_name+'_filtering/'+pathway_name+'.input') as f:\n",
    "            while mode <= 3:\n",
    "                if mode < 3:\n",
    "                    num_nodes = int(f.readline())\n",
    "                      #print(num_nodes)\n",
    "                    for i in range(0, num_nodes):\n",
    "                        element = f.readline()\n",
    "                        #print(element)\n",
    "                        nodes.append(element[0:-1])\n",
    "                        if mode == 0:\n",
    "                            list_enzymes.append(element[0:-1])\n",
    "                        elif mode == 1:\n",
    "                            list_reactions.append(element[0:-1])\n",
    "                        else:\n",
    "                            list_compounds.append(element[0:-1])\n",
    "                    mode = mode + 1\n",
    "                else:\n",
    "                    num_edges = int(f.readline())\n",
    "                    for i in range(0, num_edges):\n",
    "                        line = f.readline()\n",
    "                        element = line[0:-1].split(' ')\n",
    "                        edges.append(element)\n",
    "                    mode = mode + 1\n",
    "            \n",
    "        G = nx.DiGraph()\n",
    "        G.add_edges_from(edges)\n",
    "        \n",
    "        list_removal = []\n",
    "        for comp in G.nodes:\n",
    "            list_predecessor = [i for i in G.predecessors(comp)]\n",
    "            if comp in list_compounds and len(list_predecessor) == 0:\n",
    "                list_removal.append(comp)\n",
    "                list_compounds.remove(comp)\n",
    "        G.remove_nodes_from(list_removal)\n",
    "\n",
    "        is_revertable = {}\n",
    "        for comp in list_reactions:\n",
    "            list_predecessor = [i for i in G.predecessors(comp)]\n",
    "            list_successor = [i for i in G.neighbors(comp)]\n",
    "            check = False\n",
    "            for comp_2 in list_predecessor:\n",
    "                if comp_2 in list_successor:\n",
    "                    #print(comp_2, comp)\n",
    "                    G.remove_edge(comp_2, comp)\n",
    "                    check = True\n",
    "                    #break\n",
    "            is_revertable[comp] = check\n",
    "\n",
    "        idx = 0\n",
    "        for node in G.nodes:\n",
    "            G.nodes[node]['index'] = idx\n",
    "            idx = idx + 1 \n",
    "        \n",
    "        #qubo_com, coef = \n",
    "        testcase = []\n",
    "        #print(len(edges), len(G.edges), len(list_enzymes), len(list_reactions), len(list_compounds))\n",
    "        #break\n",
    "        with open(data_type+'_output/'+species_name+'/'+pathway_name+'.out') as f:\n",
    "            while True:\n",
    "                record = {}\n",
    "                line = f.readline()\n",
    "                if line == '':\n",
    "                    break\n",
    "                line = f.readline()\n",
    "                record['Target_size'] = int(line)\n",
    "\n",
    "                line = f.readline()\n",
    "                target = []\n",
    "                for i in range(0, record['Target_size']):\n",
    "                    line = f.readline()\n",
    "                    target.append(line[0:-1])\n",
    "                record['Target'] = target\n",
    "\n",
    "                line = f.readline()\n",
    "                line = f.readline()\n",
    "                record['Exact_damage'] = int(line)\n",
    "\n",
    "                #if pathway_name != 'Purine':\n",
    "                line = f.readline()\n",
    "                line = f.readline()\n",
    "                record['Exact_running_time'] = float(line)\n",
    "\n",
    "                line = f.readline()\n",
    "                line = f.readline()\n",
    "                record['QC_damage'] = float(line)\n",
    "\n",
    "                line = f.readline()\n",
    "                line = f.readline()\n",
    "                record['QC_QPU_access_time'] = float(line)\n",
    "\n",
    "                line = f.readline()\n",
    "                line = f.readline()\n",
    "                record['QC_running_time'] = float(line)\n",
    "                \n",
    "                testcase.append(record)\n",
    "        #print(testcase)\n",
    "        i = 0\n",
    "        for record in testcase:\n",
    "            #if i!=2:\n",
    "            #    i = i+1\n",
    "            #    continue\n",
    "            #i = i + 1\n",
    "            #print(list_compounds)\n",
    "            #print(record['Target'])\n",
    "            #print(record['DI_damage'])\n",
    "            target = record['Target']\n",
    "            qubo_comp, coef = qubo_initialize(list_enzymes, list_reactions, list_compounds, target, G)\n",
    "            linear_comp, quadratic_comp = qubo_splitting(qubo_comp)\n",
    "            qubo = {'linear': linear_comp, 'quadratic': quadratic_comp, 'coefficient': coef}\n",
    "            init_solution = []\n",
    "            mapping = {}\n",
    "            index = 0\n",
    "            for obj in linear_comp.keys():\n",
    "                init_solution.append(random.choice([0, 1]))\n",
    "                mapping[obj] = index\n",
    "                mapping[index] = obj\n",
    "                index = index + 1\n",
    "\n",
    "            init_solution = np.array(init_solution)\n",
    "\n",
    "            scale = coef\n",
    "            for obj in qubo['linear'].keys():\n",
    "                scale = scale + qubo['linear'][obj]\n",
    "\n",
    "            params = [qubo, mapping, scale]\n",
    "            lw = [0] * len(linear_comp.keys())\n",
    "            up = [1] * len(linear_comp.keys())\n",
    "            res_packet = optimize.dual_annealing(evaluate_function, list(zip(lw, up)), params, 100)\n",
    "            remain, remain_list, damage, damage_list = unpacking(res_packet, list_compounds, target, mapping)\n",
    "            print(target, remain, remain_list, damage, damage_list)\n",
    "            rec = {'Species': species_name, 'Pathway': pathway_name, 'Target':target, 'Remain':remain, 'Remain_Target':remain_list, 'SA_damage':damage, 'QC_damage':record['QC_damage']}\n",
    "            df = df.append(rec, ignore_index=True)\n",
    "            #break\n",
    "            if i == 0:\n",
    "                f = open(data_type+\"_output/\"+species_name+\"/SA_Res/\"+pathway_name+\".out\", \"w\")\n",
    "                i = i + 1\n",
    "            else:\n",
    "                f = open(data_type+\"_output/\"+species_name+\"/SA_Res/\"+pathway_name+\".out\", \"a\")\n",
    "            f.write('Target_size\\n')\n",
    "            f.write(str(record['Target_size'])+'\\n')\n",
    "            f.write('Target\\n')\n",
    "            for enzy in record['Target']:\n",
    "                f.write(enzy+'\\n')\n",
    "            f.write('Exact_damage\\n')\n",
    "            f.write(str(record['Exact_damage'])+'\\n')\n",
    "            f.write('Exact_running_time\\n')\n",
    "            f.write(str(record['Exact_running_time'])+'\\n')\n",
    "            f.write('QC_damage\\n')\n",
    "            f.write(str(record['QC_damage'])+'\\n')\n",
    "            f.write('QC_QPU_access_time\\n')\n",
    "            f.write(str(record['QC_QPU_access_time'])+'\\n')\n",
    "            f.write('QC_running_time\\n')\n",
    "            f.write(str(record['QC_running_time'])+'\\n')\n",
    "            f.write('SA_remain\\n')\n",
    "            f.write(str(remain)+'\\n')\n",
    "            f.write('SA_damage\\n')\n",
    "            f.write(str(damage)+'\\n')\n",
    "            f.close()"
   ]
  },
  {
   "cell_type": "code",
   "execution_count": 32,
   "id": "1f3f1c04",
   "metadata": {},
   "outputs": [
    {
     "data": {
      "text/html": [
       "<div>\n",
       "<style scoped>\n",
       "    .dataframe tbody tr th:only-of-type {\n",
       "        vertical-align: middle;\n",
       "    }\n",
       "\n",
       "    .dataframe tbody tr th {\n",
       "        vertical-align: top;\n",
       "    }\n",
       "\n",
       "    .dataframe thead th {\n",
       "        text-align: right;\n",
       "    }\n",
       "</style>\n",
       "<table border=\"1\" class=\"dataframe\">\n",
       "  <thead>\n",
       "    <tr style=\"text-align: right;\">\n",
       "      <th></th>\n",
       "      <th>Species</th>\n",
       "      <th>Pathway</th>\n",
       "      <th>Target</th>\n",
       "      <th>Remain</th>\n",
       "      <th>Remain_Target</th>\n",
       "      <th>SA_damage</th>\n",
       "      <th>QC_damage</th>\n",
       "    </tr>\n",
       "  </thead>\n",
       "  <tbody>\n",
       "    <tr>\n",
       "      <th>0</th>\n",
       "      <td>hsa</td>\n",
       "      <td>Glycerolipid</td>\n",
       "      <td>[C00258, C00681]</td>\n",
       "      <td>1</td>\n",
       "      <td>[C00258]</td>\n",
       "      <td>5</td>\n",
       "      <td>1.0</td>\n",
       "    </tr>\n",
       "    <tr>\n",
       "      <th>1</th>\n",
       "      <td>hsa</td>\n",
       "      <td>Glycerolipid</td>\n",
       "      <td>[C00116, C00681]</td>\n",
       "      <td>0</td>\n",
       "      <td>[]</td>\n",
       "      <td>8</td>\n",
       "      <td>1.0</td>\n",
       "    </tr>\n",
       "    <tr>\n",
       "      <th>2</th>\n",
       "      <td>hsa</td>\n",
       "      <td>Glycerolipid</td>\n",
       "      <td>[C00416, C00422]</td>\n",
       "      <td>1</td>\n",
       "      <td>[C00416]</td>\n",
       "      <td>6</td>\n",
       "      <td>0.0</td>\n",
       "    </tr>\n",
       "    <tr>\n",
       "      <th>3</th>\n",
       "      <td>hsa</td>\n",
       "      <td>Glycerolipid</td>\n",
       "      <td>[C00641, C00258]</td>\n",
       "      <td>2</td>\n",
       "      <td>[C00641, C00258]</td>\n",
       "      <td>4</td>\n",
       "      <td>4.0</td>\n",
       "    </tr>\n",
       "    <tr>\n",
       "      <th>4</th>\n",
       "      <td>hsa</td>\n",
       "      <td>Glycerolipid</td>\n",
       "      <td>[C00093, C00631]</td>\n",
       "      <td>0</td>\n",
       "      <td>[]</td>\n",
       "      <td>8</td>\n",
       "      <td>0.0</td>\n",
       "    </tr>\n",
       "    <tr>\n",
       "      <th>5</th>\n",
       "      <td>hsa</td>\n",
       "      <td>Glycerolipid</td>\n",
       "      <td>[C00641, C01885, C00111, C00162, C03692, C0063...</td>\n",
       "      <td>1</td>\n",
       "      <td>[C03692]</td>\n",
       "      <td>5</td>\n",
       "      <td>0.0</td>\n",
       "    </tr>\n",
       "    <tr>\n",
       "      <th>6</th>\n",
       "      <td>hsa</td>\n",
       "      <td>Glycerolipid</td>\n",
       "      <td>[C00258, C00416, C00681, C00162, C03692, C0009...</td>\n",
       "      <td>4</td>\n",
       "      <td>[C00258, C00416, C00162, C00422]</td>\n",
       "      <td>3</td>\n",
       "      <td>3.0</td>\n",
       "    </tr>\n",
       "    <tr>\n",
       "      <th>7</th>\n",
       "      <td>hsa</td>\n",
       "      <td>Glycerolipid</td>\n",
       "      <td>[C00641, C01885, C00116, C00111, C00162, C0369...</td>\n",
       "      <td>2</td>\n",
       "      <td>[C00111, C03692]</td>\n",
       "      <td>5</td>\n",
       "      <td>3.0</td>\n",
       "    </tr>\n",
       "    <tr>\n",
       "      <th>8</th>\n",
       "      <td>hsa</td>\n",
       "      <td>Glycerolipid</td>\n",
       "      <td>[C00641, C01885, C00116, C00111, C00258, C0369...</td>\n",
       "      <td>2</td>\n",
       "      <td>[C00641, C00422]</td>\n",
       "      <td>3</td>\n",
       "      <td>6.0</td>\n",
       "    </tr>\n",
       "    <tr>\n",
       "      <th>9</th>\n",
       "      <td>hsa</td>\n",
       "      <td>Glycerolipid</td>\n",
       "      <td>[C00116, C00258, C00416, C00577, C00681, C0009...</td>\n",
       "      <td>2</td>\n",
       "      <td>[C00681, C00093]</td>\n",
       "      <td>4</td>\n",
       "      <td>0.0</td>\n",
       "    </tr>\n",
       "    <tr>\n",
       "      <th>10</th>\n",
       "      <td>hsa</td>\n",
       "      <td>Glycerolipid</td>\n",
       "      <td>[C00641, C01885, C00116, C00111, C00258, C0057...</td>\n",
       "      <td>2</td>\n",
       "      <td>[C00258, C00631]</td>\n",
       "      <td>1</td>\n",
       "      <td>1.0</td>\n",
       "    </tr>\n",
       "    <tr>\n",
       "      <th>11</th>\n",
       "      <td>hsa</td>\n",
       "      <td>Glycerolipid</td>\n",
       "      <td>[C00641, C01885, C00116, C00111, C00258, C0041...</td>\n",
       "      <td>3</td>\n",
       "      <td>[C00116, C00111, C00681]</td>\n",
       "      <td>0</td>\n",
       "      <td>1.0</td>\n",
       "    </tr>\n",
       "    <tr>\n",
       "      <th>12</th>\n",
       "      <td>hsa</td>\n",
       "      <td>Glycerolipid</td>\n",
       "      <td>[C00641, C01885, C00116, C00258, C00416, C0057...</td>\n",
       "      <td>4</td>\n",
       "      <td>[C00641, C00258, C03692, C00631]</td>\n",
       "      <td>0</td>\n",
       "      <td>0.0</td>\n",
       "    </tr>\n",
       "    <tr>\n",
       "      <th>13</th>\n",
       "      <td>hsa</td>\n",
       "      <td>Glycerolipid</td>\n",
       "      <td>[C00641, C01885, C00116, C00111, C00258, C0041...</td>\n",
       "      <td>8</td>\n",
       "      <td>[C00641, C01885, C00116, C00258, C00577, C0369...</td>\n",
       "      <td>0</td>\n",
       "      <td>1.0</td>\n",
       "    </tr>\n",
       "    <tr>\n",
       "      <th>14</th>\n",
       "      <td>hsa</td>\n",
       "      <td>Glycerolipid</td>\n",
       "      <td>[C00641, C01885, C00116, C00111, C00258, C0041...</td>\n",
       "      <td>5</td>\n",
       "      <td>[C01885, C00116, C00162, C03692, C00093]</td>\n",
       "      <td>0</td>\n",
       "      <td>1.0</td>\n",
       "    </tr>\n",
       "    <tr>\n",
       "      <th>15</th>\n",
       "      <td>hsa</td>\n",
       "      <td>Citrate_cycle</td>\n",
       "      <td>[C15973, C16255]</td>\n",
       "      <td>0</td>\n",
       "      <td>[]</td>\n",
       "      <td>12</td>\n",
       "      <td>5.0</td>\n",
       "    </tr>\n",
       "    <tr>\n",
       "      <th>16</th>\n",
       "      <td>hsa</td>\n",
       "      <td>Citrate_cycle</td>\n",
       "      <td>[C05379, C15972]</td>\n",
       "      <td>1</td>\n",
       "      <td>[C05379]</td>\n",
       "      <td>7</td>\n",
       "      <td>3.0</td>\n",
       "    </tr>\n",
       "    <tr>\n",
       "      <th>17</th>\n",
       "      <td>hsa</td>\n",
       "      <td>Citrate_cycle</td>\n",
       "      <td>[C00311, C00091]</td>\n",
       "      <td>1</td>\n",
       "      <td>[C00311]</td>\n",
       "      <td>7</td>\n",
       "      <td>5.0</td>\n",
       "    </tr>\n",
       "    <tr>\n",
       "      <th>18</th>\n",
       "      <td>hsa</td>\n",
       "      <td>Citrate_cycle</td>\n",
       "      <td>[C05125, C16254]</td>\n",
       "      <td>0</td>\n",
       "      <td>[]</td>\n",
       "      <td>5</td>\n",
       "      <td>2.0</td>\n",
       "    </tr>\n",
       "    <tr>\n",
       "      <th>19</th>\n",
       "      <td>hsa</td>\n",
       "      <td>Citrate_cycle</td>\n",
       "      <td>[C00036, C00122]</td>\n",
       "      <td>1</td>\n",
       "      <td>[C00122]</td>\n",
       "      <td>8</td>\n",
       "      <td>2.0</td>\n",
       "    </tr>\n",
       "    <tr>\n",
       "      <th>20</th>\n",
       "      <td>hsa</td>\n",
       "      <td>Citrate_cycle</td>\n",
       "      <td>[C00122, C00417, C00026, C05379, C00068, C1597...</td>\n",
       "      <td>4</td>\n",
       "      <td>[C00122, C00417, C05379, C15972]</td>\n",
       "      <td>3</td>\n",
       "      <td>3.0</td>\n",
       "    </tr>\n",
       "    <tr>\n",
       "      <th>21</th>\n",
       "      <td>hsa</td>\n",
       "      <td>Citrate_cycle</td>\n",
       "      <td>[C00311, C00074, C00122, C05379, C15973, C0006...</td>\n",
       "      <td>1</td>\n",
       "      <td>[C00311]</td>\n",
       "      <td>3</td>\n",
       "      <td>8.0</td>\n",
       "    </tr>\n",
       "    <tr>\n",
       "      <th>22</th>\n",
       "      <td>hsa</td>\n",
       "      <td>Citrate_cycle</td>\n",
       "      <td>[C00311, C00417, C05379, C05125, C00158, C1625...</td>\n",
       "      <td>5</td>\n",
       "      <td>[C00311, C00417, C05379, C05125, C00158]</td>\n",
       "      <td>2</td>\n",
       "      <td>3.0</td>\n",
       "    </tr>\n",
       "    <tr>\n",
       "      <th>23</th>\n",
       "      <td>hsa</td>\n",
       "      <td>Citrate_cycle</td>\n",
       "      <td>[C00024, C00311, C00122, C00417, C05379, C0009...</td>\n",
       "      <td>3</td>\n",
       "      <td>[C00311, C05379, C00149]</td>\n",
       "      <td>6</td>\n",
       "      <td>5.0</td>\n",
       "    </tr>\n",
       "    <tr>\n",
       "      <th>24</th>\n",
       "      <td>hsa</td>\n",
       "      <td>Citrate_cycle</td>\n",
       "      <td>[C00311, C00036, C00122, C05125, C16254, C0014...</td>\n",
       "      <td>1</td>\n",
       "      <td>[C00036]</td>\n",
       "      <td>6</td>\n",
       "      <td>6.0</td>\n",
       "    </tr>\n",
       "    <tr>\n",
       "      <th>25</th>\n",
       "      <td>hsa</td>\n",
       "      <td>Citrate_cycle</td>\n",
       "      <td>[C00311, C00074, C00036, C00122, C00417, C0002...</td>\n",
       "      <td>3</td>\n",
       "      <td>[C00042, C00091, C05381]</td>\n",
       "      <td>1</td>\n",
       "      <td>5.0</td>\n",
       "    </tr>\n",
       "    <tr>\n",
       "      <th>26</th>\n",
       "      <td>hsa</td>\n",
       "      <td>Citrate_cycle</td>\n",
       "      <td>[C00024, C00311, C00074, C00036, C00122, C0537...</td>\n",
       "      <td>3</td>\n",
       "      <td>[C00311, C00122, C05125]</td>\n",
       "      <td>1</td>\n",
       "      <td>5.0</td>\n",
       "    </tr>\n",
       "    <tr>\n",
       "      <th>27</th>\n",
       "      <td>hsa</td>\n",
       "      <td>Citrate_cycle</td>\n",
       "      <td>[C00311, C00074, C00026, C05379, C15973, C0512...</td>\n",
       "      <td>2</td>\n",
       "      <td>[C16254, C00149]</td>\n",
       "      <td>2</td>\n",
       "      <td>4.0</td>\n",
       "    </tr>\n",
       "    <tr>\n",
       "      <th>28</th>\n",
       "      <td>hsa</td>\n",
       "      <td>Citrate_cycle</td>\n",
       "      <td>[C00024, C00311, C00074, C00122, C00417, C0537...</td>\n",
       "      <td>5</td>\n",
       "      <td>[C00024, C05379, C15973, C15972, C16255]</td>\n",
       "      <td>4</td>\n",
       "      <td>4.0</td>\n",
       "    </tr>\n",
       "    <tr>\n",
       "      <th>29</th>\n",
       "      <td>hsa</td>\n",
       "      <td>Citrate_cycle</td>\n",
       "      <td>[C00024, C00074, C00036, C00026, C05379, C1597...</td>\n",
       "      <td>6</td>\n",
       "      <td>[C00024, C00074, C00036, C00026, C05379, C15973]</td>\n",
       "      <td>3</td>\n",
       "      <td>7.0</td>\n",
       "    </tr>\n",
       "    <tr>\n",
       "      <th>30</th>\n",
       "      <td>hsa</td>\n",
       "      <td>Citrate_cycle</td>\n",
       "      <td>[C00024, C00311, C00074, C00036, C00417, C0002...</td>\n",
       "      <td>9</td>\n",
       "      <td>[C00024, C00417, C15973, C00158, C00042, C0009...</td>\n",
       "      <td>0</td>\n",
       "      <td>2.0</td>\n",
       "    </tr>\n",
       "    <tr>\n",
       "      <th>31</th>\n",
       "      <td>hsa</td>\n",
       "      <td>Citrate_cycle</td>\n",
       "      <td>[C00311, C00074, C00036, C00122, C00417, C0002...</td>\n",
       "      <td>4</td>\n",
       "      <td>[C00122, C00417, C00158, C00149]</td>\n",
       "      <td>1</td>\n",
       "      <td>2.0</td>\n",
       "    </tr>\n",
       "    <tr>\n",
       "      <th>32</th>\n",
       "      <td>hsa</td>\n",
       "      <td>Citrate_cycle</td>\n",
       "      <td>[C00024, C00311, C00074, C00122, C00417, C0002...</td>\n",
       "      <td>5</td>\n",
       "      <td>[C00122, C15973, C00042, C00091, C16254]</td>\n",
       "      <td>1</td>\n",
       "      <td>1.0</td>\n",
       "    </tr>\n",
       "    <tr>\n",
       "      <th>33</th>\n",
       "      <td>hsa</td>\n",
       "      <td>Citrate_cycle</td>\n",
       "      <td>[C00311, C00074, C00036, C00122, C00417, C0002...</td>\n",
       "      <td>5</td>\n",
       "      <td>[C00074, C00036, C15973, C00042, C00091]</td>\n",
       "      <td>1</td>\n",
       "      <td>2.0</td>\n",
       "    </tr>\n",
       "    <tr>\n",
       "      <th>34</th>\n",
       "      <td>hsa</td>\n",
       "      <td>Citrate_cycle</td>\n",
       "      <td>[C00024, C00311, C00074, C00036, C00417, C0002...</td>\n",
       "      <td>10</td>\n",
       "      <td>[C00024, C00311, C00417, C00026, C15973, C0015...</td>\n",
       "      <td>1</td>\n",
       "      <td>2.0</td>\n",
       "    </tr>\n",
       "    <tr>\n",
       "      <th>35</th>\n",
       "      <td>hsa</td>\n",
       "      <td>Pentose_phosphate</td>\n",
       "      <td>[C05378, C00257]</td>\n",
       "      <td>0</td>\n",
       "      <td>[]</td>\n",
       "      <td>8</td>\n",
       "      <td>0.0</td>\n",
       "    </tr>\n",
       "    <tr>\n",
       "      <th>36</th>\n",
       "      <td>hsa</td>\n",
       "      <td>Pentose_phosphate</td>\n",
       "      <td>[C01172, C05382]</td>\n",
       "      <td>1</td>\n",
       "      <td>[C01172]</td>\n",
       "      <td>1</td>\n",
       "      <td>2.0</td>\n",
       "    </tr>\n",
       "    <tr>\n",
       "      <th>37</th>\n",
       "      <td>hsa</td>\n",
       "      <td>Pentose_phosphate</td>\n",
       "      <td>[C05345, C00668]</td>\n",
       "      <td>1</td>\n",
       "      <td>[C05345]</td>\n",
       "      <td>11</td>\n",
       "      <td>4.0</td>\n",
       "    </tr>\n",
       "    <tr>\n",
       "      <th>38</th>\n",
       "      <td>hsa</td>\n",
       "      <td>Pentose_phosphate</td>\n",
       "      <td>[C00631, C01172]</td>\n",
       "      <td>1</td>\n",
       "      <td>[C01172]</td>\n",
       "      <td>3</td>\n",
       "      <td>1.0</td>\n",
       "    </tr>\n",
       "  </tbody>\n",
       "</table>\n",
       "</div>"
      ],
      "text/plain": [
       "   Species            Pathway  \\\n",
       "0      hsa       Glycerolipid   \n",
       "1      hsa       Glycerolipid   \n",
       "2      hsa       Glycerolipid   \n",
       "3      hsa       Glycerolipid   \n",
       "4      hsa       Glycerolipid   \n",
       "5      hsa       Glycerolipid   \n",
       "6      hsa       Glycerolipid   \n",
       "7      hsa       Glycerolipid   \n",
       "8      hsa       Glycerolipid   \n",
       "9      hsa       Glycerolipid   \n",
       "10     hsa       Glycerolipid   \n",
       "11     hsa       Glycerolipid   \n",
       "12     hsa       Glycerolipid   \n",
       "13     hsa       Glycerolipid   \n",
       "14     hsa       Glycerolipid   \n",
       "15     hsa      Citrate_cycle   \n",
       "16     hsa      Citrate_cycle   \n",
       "17     hsa      Citrate_cycle   \n",
       "18     hsa      Citrate_cycle   \n",
       "19     hsa      Citrate_cycle   \n",
       "20     hsa      Citrate_cycle   \n",
       "21     hsa      Citrate_cycle   \n",
       "22     hsa      Citrate_cycle   \n",
       "23     hsa      Citrate_cycle   \n",
       "24     hsa      Citrate_cycle   \n",
       "25     hsa      Citrate_cycle   \n",
       "26     hsa      Citrate_cycle   \n",
       "27     hsa      Citrate_cycle   \n",
       "28     hsa      Citrate_cycle   \n",
       "29     hsa      Citrate_cycle   \n",
       "30     hsa      Citrate_cycle   \n",
       "31     hsa      Citrate_cycle   \n",
       "32     hsa      Citrate_cycle   \n",
       "33     hsa      Citrate_cycle   \n",
       "34     hsa      Citrate_cycle   \n",
       "35     hsa  Pentose_phosphate   \n",
       "36     hsa  Pentose_phosphate   \n",
       "37     hsa  Pentose_phosphate   \n",
       "38     hsa  Pentose_phosphate   \n",
       "\n",
       "                                               Target Remain  \\\n",
       "0                                    [C00258, C00681]      1   \n",
       "1                                    [C00116, C00681]      0   \n",
       "2                                    [C00416, C00422]      1   \n",
       "3                                    [C00641, C00258]      2   \n",
       "4                                    [C00093, C00631]      0   \n",
       "5   [C00641, C01885, C00111, C00162, C03692, C0063...      1   \n",
       "6   [C00258, C00416, C00681, C00162, C03692, C0009...      4   \n",
       "7   [C00641, C01885, C00116, C00111, C00162, C0369...      2   \n",
       "8   [C00641, C01885, C00116, C00111, C00258, C0369...      2   \n",
       "9   [C00116, C00258, C00416, C00577, C00681, C0009...      2   \n",
       "10  [C00641, C01885, C00116, C00111, C00258, C0057...      2   \n",
       "11  [C00641, C01885, C00116, C00111, C00258, C0041...      3   \n",
       "12  [C00641, C01885, C00116, C00258, C00416, C0057...      4   \n",
       "13  [C00641, C01885, C00116, C00111, C00258, C0041...      8   \n",
       "14  [C00641, C01885, C00116, C00111, C00258, C0041...      5   \n",
       "15                                   [C15973, C16255]      0   \n",
       "16                                   [C05379, C15972]      1   \n",
       "17                                   [C00311, C00091]      1   \n",
       "18                                   [C05125, C16254]      0   \n",
       "19                                   [C00036, C00122]      1   \n",
       "20  [C00122, C00417, C00026, C05379, C00068, C1597...      4   \n",
       "21  [C00311, C00074, C00122, C05379, C15973, C0006...      1   \n",
       "22  [C00311, C00417, C05379, C05125, C00158, C1625...      5   \n",
       "23  [C00024, C00311, C00122, C00417, C05379, C0009...      3   \n",
       "24  [C00311, C00036, C00122, C05125, C16254, C0014...      1   \n",
       "25  [C00311, C00074, C00036, C00122, C00417, C0002...      3   \n",
       "26  [C00024, C00311, C00074, C00036, C00122, C0537...      3   \n",
       "27  [C00311, C00074, C00026, C05379, C15973, C0512...      2   \n",
       "28  [C00024, C00311, C00074, C00122, C00417, C0537...      5   \n",
       "29  [C00024, C00074, C00036, C00026, C05379, C1597...      6   \n",
       "30  [C00024, C00311, C00074, C00036, C00417, C0002...      9   \n",
       "31  [C00311, C00074, C00036, C00122, C00417, C0002...      4   \n",
       "32  [C00024, C00311, C00074, C00122, C00417, C0002...      5   \n",
       "33  [C00311, C00074, C00036, C00122, C00417, C0002...      5   \n",
       "34  [C00024, C00311, C00074, C00036, C00417, C0002...     10   \n",
       "35                                   [C05378, C00257]      0   \n",
       "36                                   [C01172, C05382]      1   \n",
       "37                                   [C05345, C00668]      1   \n",
       "38                                   [C00631, C01172]      1   \n",
       "\n",
       "                                        Remain_Target SA_damage  QC_damage  \n",
       "0                                            [C00258]         5        1.0  \n",
       "1                                                  []         8        1.0  \n",
       "2                                            [C00416]         6        0.0  \n",
       "3                                    [C00641, C00258]         4        4.0  \n",
       "4                                                  []         8        0.0  \n",
       "5                                            [C03692]         5        0.0  \n",
       "6                    [C00258, C00416, C00162, C00422]         3        3.0  \n",
       "7                                    [C00111, C03692]         5        3.0  \n",
       "8                                    [C00641, C00422]         3        6.0  \n",
       "9                                    [C00681, C00093]         4        0.0  \n",
       "10                                   [C00258, C00631]         1        1.0  \n",
       "11                           [C00116, C00111, C00681]         0        1.0  \n",
       "12                   [C00641, C00258, C03692, C00631]         0        0.0  \n",
       "13  [C00641, C01885, C00116, C00258, C00577, C0369...         0        1.0  \n",
       "14           [C01885, C00116, C00162, C03692, C00093]         0        1.0  \n",
       "15                                                 []        12        5.0  \n",
       "16                                           [C05379]         7        3.0  \n",
       "17                                           [C00311]         7        5.0  \n",
       "18                                                 []         5        2.0  \n",
       "19                                           [C00122]         8        2.0  \n",
       "20                   [C00122, C00417, C05379, C15972]         3        3.0  \n",
       "21                                           [C00311]         3        8.0  \n",
       "22           [C00311, C00417, C05379, C05125, C00158]         2        3.0  \n",
       "23                           [C00311, C05379, C00149]         6        5.0  \n",
       "24                                           [C00036]         6        6.0  \n",
       "25                           [C00042, C00091, C05381]         1        5.0  \n",
       "26                           [C00311, C00122, C05125]         1        5.0  \n",
       "27                                   [C16254, C00149]         2        4.0  \n",
       "28           [C00024, C05379, C15973, C15972, C16255]         4        4.0  \n",
       "29   [C00024, C00074, C00036, C00026, C05379, C15973]         3        7.0  \n",
       "30  [C00024, C00417, C15973, C00158, C00042, C0009...         0        2.0  \n",
       "31                   [C00122, C00417, C00158, C00149]         1        2.0  \n",
       "32           [C00122, C15973, C00042, C00091, C16254]         1        1.0  \n",
       "33           [C00074, C00036, C15973, C00042, C00091]         1        2.0  \n",
       "34  [C00024, C00311, C00417, C00026, C15973, C0015...         1        2.0  \n",
       "35                                                 []         8        0.0  \n",
       "36                                           [C01172]         1        2.0  \n",
       "37                                           [C05345]        11        4.0  \n",
       "38                                           [C01172]         3        1.0  "
      ]
     },
     "execution_count": 32,
     "metadata": {},
     "output_type": "execute_result"
    }
   ],
   "source": [
    "df"
   ]
  },
  {
   "cell_type": "code",
   "execution_count": 11,
   "id": "d0fab2a1",
   "metadata": {},
   "outputs": [],
   "source": [
    "def qubo_initialize(list_enzymes, list_reactions, list_compounds, target, G):\n",
    "  C = target\n",
    "  qubo_comp = {}\n",
    "  A1 = 1\n",
    "  A2 = 300\n",
    "  A3 = 250\n",
    "  A4 = 250\n",
    "  coefficient = 0\n",
    "  for comp in list_compounds:\n",
    "    if comp not in C:\n",
    "      qubo_comp[comp] = A1\n",
    "    else:\n",
    "      qubo_comp[comp] = -A2\n",
    "      coefficient = coefficient + A2\n",
    "\n",
    "  for comp_i in list_compounds:\n",
    "    list_predecessor = [i for i in G.predecessors(comp_i)]\n",
    "\n",
    "    for comp_j in list_predecessor:\n",
    "      temp_comp = extract_quadratic_func({comp_i: 1, comp_j: -1})\n",
    "      qubo_comp = combine_comp(qubo_comp, temp_comp, A3)\n",
    "    \n",
    "    for comp_j in list_predecessor:\n",
    "      temp_comp = extract_quadratic_func({comp_i: 1, comp_j: -1, 1:1})\n",
    "      qubo_comp = combine_comp(qubo_comp, temp_comp, A3)\n",
    "      #coefficient = coefficient + A3\n",
    "    \n",
    "    input_comp = {comp_i: -1, 1:1}\n",
    "    for comp_j in list_predecessor:\n",
    "      input_comp[comp_j] = 1\n",
    "    \n",
    "    for i in range(0, len(list_predecessor) + 1):\n",
    "      input_comp['W_'+str(comp_i)+'_'+str(i)] = -i\n",
    "    \n",
    "    temp_comp = extract_quadratic_func(input_comp)\n",
    "    qubo_comp = combine_comp(qubo_comp, temp_comp, A3)\n",
    "    coefficient = coefficient + A3\n",
    "\n",
    "    input_comp = {1:1}\n",
    "    for i in range(0, len(list_predecessor) + 1):\n",
    "      input_comp['W_'+str(comp_i)+'_'+str(i)] = -1\n",
    "    \n",
    "    temp_comp = extract_quadratic_func(input_comp)\n",
    "    qubo_comp = combine_comp(qubo_comp, temp_comp, A3)\n",
    "    coefficient = coefficient + A3\n",
    "\n",
    "  for comp_i in list_reactions:\n",
    "    list_predecessor = [i for i in G.predecessors(comp_i)]\n",
    "    removal_list = []\n",
    "    if is_revertable[comp_i]:\n",
    "      for comp_j in list_predecessor:\n",
    "        if comp_j in list_compounds:\n",
    "          removal_list.append(comp_j)\n",
    "    for comp_j in removal_list:\n",
    "      list_predecessor.remove(comp_j)\n",
    "    for comp_j in list_predecessor:\n",
    "      temp_comp = extract_quadratic_func({comp_i: 1, comp_j: -1})\n",
    "      qubo_comp = combine_comp(qubo_comp, temp_comp, A4)\n",
    "    \n",
    "    for comp_j in list_predecessor:\n",
    "      temp_comp = extract_quadratic_func({comp_i: 1, comp_j: -1, 1:-1})\n",
    "      qubo_comp = combine_comp(qubo_comp, temp_comp, A4)\n",
    "      #print(comp_i, temp_comp)\n",
    "      #coefficient = coefficient - A4\n",
    "    \n",
    "    input_comp = {comp_i: 1}\n",
    "    for comp_j in list_predecessor:\n",
    "      input_comp[comp_j] = -1\n",
    "    \n",
    "    for i in range(0, len(list_predecessor) + 1):\n",
    "      input_comp['T_'+str(comp_i)+'_'+str(i)] = i\n",
    "    \n",
    "    temp_comp = extract_quadratic_func(input_comp)\n",
    "    qubo_comp = combine_comp(qubo_comp, temp_comp, A4)\n",
    "\n",
    "    input_comp = {1:1}\n",
    "    for i in range(0, len(list_predecessor) + 1):\n",
    "      input_comp['T_'+str(comp_i)+'_'+str(i)] = -1\n",
    "    \n",
    "    temp_comp = extract_quadratic_func(input_comp)\n",
    "    qubo_comp = combine_comp(qubo_comp, temp_comp, A4)\n",
    "    coefficient = coefficient + A4\n",
    "  return qubo_comp, coefficient"
   ]
  },
  {
   "cell_type": "code",
   "execution_count": 12,
   "id": "790c9154",
   "metadata": {},
   "outputs": [],
   "source": [
    "def bigger(k1, k2):\n",
    "  if type(k1) is type(k2):\n",
    "    return k1 > k2\n",
    "  else:\n",
    "    if type(k1) is int:\n",
    "      return False\n",
    "    else:\n",
    "      return True\n",
    "\n",
    "def extract_quadratic_func(input_comp):\n",
    "  temp_comp = {}\n",
    "  keys = input_comp.keys()\n",
    "  for k in keys:\n",
    "    if type(k) is not int:\n",
    "      temp_comp[k] = input_comp[k]*input_comp[k]\n",
    "  for k1 in keys:\n",
    "    for k2 in keys:\n",
    "      if (k1 != k2) and (bigger(k1, k2)):\n",
    "        if type(k1) is int:\n",
    "          if type(k2) is not int:\n",
    "            temp_comp[k2] = temp_comp[k2] + 2*input_comp[k1]*input_comp[k2]\n",
    "        else:\n",
    "          if type(k2) is int:\n",
    "            temp_comp[k1] = temp_comp[k1] + 2*input_comp[k2]*input_comp[k1]\n",
    "          else:\n",
    "            if (k1, k2) not in temp_comp.keys():\n",
    "              temp_comp[(k1, k2)] = 2*input_comp[k1]*input_comp[k2]\n",
    "            else:\n",
    "               temp_comp[(k1, k2)] = temp_comp[(k1, k2)] + 2*input_comp[k1]*input_comp[k2]\n",
    "  return temp_comp\n",
    "\n",
    "def combine_comp(qubo_comp, temp_comp, ins):\n",
    "  keys = temp_comp.keys()\n",
    "  for k in keys:\n",
    "    if k not in qubo_comp:\n",
    "      qubo_comp[k] = temp_comp[k] * ins\n",
    "    else:\n",
    "      qubo_comp[k] = qubo_comp[k] + temp_comp[k] * ins\n",
    "  return qubo_comp"
   ]
  },
  {
   "cell_type": "code",
   "execution_count": 13,
   "id": "f649aa81",
   "metadata": {},
   "outputs": [],
   "source": [
    "def qubo_splitting(qubo_comp):\n",
    "  linear_comp = {}\n",
    "  quadratic_comp = {}\n",
    "  for k in qubo_comp.keys():\n",
    "    if type(k) is str:\n",
    "      linear_comp[k] = qubo_comp[k]\n",
    "    else:\n",
    "      quadratic_comp[k] = qubo_comp[k]\n",
    "  return linear_comp, quadratic_comp"
   ]
  }
 ],
 "metadata": {
  "kernelspec": {
   "display_name": "Python 3 (ipykernel)",
   "language": "python",
   "name": "python3"
  },
  "language_info": {
   "codemirror_mode": {
    "name": "ipython",
    "version": 3
   },
   "file_extension": ".py",
   "mimetype": "text/x-python",
   "name": "python",
   "nbconvert_exporter": "python",
   "pygments_lexer": "ipython3",
   "version": "3.9.7"
  }
 },
 "nbformat": 4,
 "nbformat_minor": 5
}
